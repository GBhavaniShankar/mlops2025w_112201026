{
  "nbformat": 4,
  "nbformat_minor": 0,
  "metadata": {
    "colab": {
      "provenance": [],
      "gpuType": "T4"
    },
    "kernelspec": {
      "name": "python3",
      "display_name": "Python 3"
    },
    "language_info": {
      "name": "python"
    },
    "accelerator": "GPU",
    "widgets": {
      "application/vnd.jupyter.widget-state+json": {
        "9f1a242775c042849f44f46e2c17f521": {
          "model_module": "@jupyter-widgets/controls",
          "model_name": "HBoxModel",
          "model_module_version": "1.5.0",
          "state": {
            "_dom_classes": [],
            "_model_module": "@jupyter-widgets/controls",
            "_model_module_version": "1.5.0",
            "_model_name": "HBoxModel",
            "_view_count": null,
            "_view_module": "@jupyter-widgets/controls",
            "_view_module_version": "1.5.0",
            "_view_name": "HBoxView",
            "box_style": "",
            "children": [
              "IPY_MODEL_8a6dd128be634f8e8d34434cea21feca",
              "IPY_MODEL_978dcac8c3bf42bfa25c68d7e5772e34",
              "IPY_MODEL_fae69daad82f400888ad1fe48a202f67"
            ],
            "layout": "IPY_MODEL_8db4337aa8d149668cd0514709d5321b"
          }
        },
        "8a6dd128be634f8e8d34434cea21feca": {
          "model_module": "@jupyter-widgets/controls",
          "model_name": "HTMLModel",
          "model_module_version": "1.5.0",
          "state": {
            "_dom_classes": [],
            "_model_module": "@jupyter-widgets/controls",
            "_model_module_version": "1.5.0",
            "_model_name": "HTMLModel",
            "_view_count": null,
            "_view_module": "@jupyter-widgets/controls",
            "_view_module_version": "1.5.0",
            "_view_name": "HTMLView",
            "description": "",
            "description_tooltip": null,
            "layout": "IPY_MODEL_35a5297cb15f4fb4845a852e99a6857b",
            "placeholder": "​",
            "style": "IPY_MODEL_1d126f255e9849bca4a0888e31022287",
            "value": "README.md: "
          }
        },
        "978dcac8c3bf42bfa25c68d7e5772e34": {
          "model_module": "@jupyter-widgets/controls",
          "model_name": "FloatProgressModel",
          "model_module_version": "1.5.0",
          "state": {
            "_dom_classes": [],
            "_model_module": "@jupyter-widgets/controls",
            "_model_module_version": "1.5.0",
            "_model_name": "FloatProgressModel",
            "_view_count": null,
            "_view_module": "@jupyter-widgets/controls",
            "_view_module_version": "1.5.0",
            "_view_name": "ProgressView",
            "bar_style": "success",
            "description": "",
            "description_tooltip": null,
            "layout": "IPY_MODEL_9ec843b96b0b475e9cb43c8d8df25d0a",
            "max": 1,
            "min": 0,
            "orientation": "horizontal",
            "style": "IPY_MODEL_dba77a0d95ef4d5ea09b1cda92ae8e16",
            "value": 1
          }
        },
        "fae69daad82f400888ad1fe48a202f67": {
          "model_module": "@jupyter-widgets/controls",
          "model_name": "HTMLModel",
          "model_module_version": "1.5.0",
          "state": {
            "_dom_classes": [],
            "_model_module": "@jupyter-widgets/controls",
            "_model_module_version": "1.5.0",
            "_model_name": "HTMLModel",
            "_view_count": null,
            "_view_module": "@jupyter-widgets/controls",
            "_view_module_version": "1.5.0",
            "_view_name": "HTMLView",
            "description": "",
            "description_tooltip": null,
            "layout": "IPY_MODEL_f7503a3fdc9846afa2167dd8ee0db086",
            "placeholder": "​",
            "style": "IPY_MODEL_0e8daaf2ba254157bc17bdcf5e34d002",
            "value": " 12.3k/? [00:00&lt;00:00, 1.32MB/s]"
          }
        },
        "8db4337aa8d149668cd0514709d5321b": {
          "model_module": "@jupyter-widgets/base",
          "model_name": "LayoutModel",
          "model_module_version": "1.2.0",
          "state": {
            "_model_module": "@jupyter-widgets/base",
            "_model_module_version": "1.2.0",
            "_model_name": "LayoutModel",
            "_view_count": null,
            "_view_module": "@jupyter-widgets/base",
            "_view_module_version": "1.2.0",
            "_view_name": "LayoutView",
            "align_content": null,
            "align_items": null,
            "align_self": null,
            "border": null,
            "bottom": null,
            "display": null,
            "flex": null,
            "flex_flow": null,
            "grid_area": null,
            "grid_auto_columns": null,
            "grid_auto_flow": null,
            "grid_auto_rows": null,
            "grid_column": null,
            "grid_gap": null,
            "grid_row": null,
            "grid_template_areas": null,
            "grid_template_columns": null,
            "grid_template_rows": null,
            "height": null,
            "justify_content": null,
            "justify_items": null,
            "left": null,
            "margin": null,
            "max_height": null,
            "max_width": null,
            "min_height": null,
            "min_width": null,
            "object_fit": null,
            "object_position": null,
            "order": null,
            "overflow": null,
            "overflow_x": null,
            "overflow_y": null,
            "padding": null,
            "right": null,
            "top": null,
            "visibility": null,
            "width": null
          }
        },
        "35a5297cb15f4fb4845a852e99a6857b": {
          "model_module": "@jupyter-widgets/base",
          "model_name": "LayoutModel",
          "model_module_version": "1.2.0",
          "state": {
            "_model_module": "@jupyter-widgets/base",
            "_model_module_version": "1.2.0",
            "_model_name": "LayoutModel",
            "_view_count": null,
            "_view_module": "@jupyter-widgets/base",
            "_view_module_version": "1.2.0",
            "_view_name": "LayoutView",
            "align_content": null,
            "align_items": null,
            "align_self": null,
            "border": null,
            "bottom": null,
            "display": null,
            "flex": null,
            "flex_flow": null,
            "grid_area": null,
            "grid_auto_columns": null,
            "grid_auto_flow": null,
            "grid_auto_rows": null,
            "grid_column": null,
            "grid_gap": null,
            "grid_row": null,
            "grid_template_areas": null,
            "grid_template_columns": null,
            "grid_template_rows": null,
            "height": null,
            "justify_content": null,
            "justify_items": null,
            "left": null,
            "margin": null,
            "max_height": null,
            "max_width": null,
            "min_height": null,
            "min_width": null,
            "object_fit": null,
            "object_position": null,
            "order": null,
            "overflow": null,
            "overflow_x": null,
            "overflow_y": null,
            "padding": null,
            "right": null,
            "top": null,
            "visibility": null,
            "width": null
          }
        },
        "1d126f255e9849bca4a0888e31022287": {
          "model_module": "@jupyter-widgets/controls",
          "model_name": "DescriptionStyleModel",
          "model_module_version": "1.5.0",
          "state": {
            "_model_module": "@jupyter-widgets/controls",
            "_model_module_version": "1.5.0",
            "_model_name": "DescriptionStyleModel",
            "_view_count": null,
            "_view_module": "@jupyter-widgets/base",
            "_view_module_version": "1.2.0",
            "_view_name": "StyleView",
            "description_width": ""
          }
        },
        "9ec843b96b0b475e9cb43c8d8df25d0a": {
          "model_module": "@jupyter-widgets/base",
          "model_name": "LayoutModel",
          "model_module_version": "1.2.0",
          "state": {
            "_model_module": "@jupyter-widgets/base",
            "_model_module_version": "1.2.0",
            "_model_name": "LayoutModel",
            "_view_count": null,
            "_view_module": "@jupyter-widgets/base",
            "_view_module_version": "1.2.0",
            "_view_name": "LayoutView",
            "align_content": null,
            "align_items": null,
            "align_self": null,
            "border": null,
            "bottom": null,
            "display": null,
            "flex": null,
            "flex_flow": null,
            "grid_area": null,
            "grid_auto_columns": null,
            "grid_auto_flow": null,
            "grid_auto_rows": null,
            "grid_column": null,
            "grid_gap": null,
            "grid_row": null,
            "grid_template_areas": null,
            "grid_template_columns": null,
            "grid_template_rows": null,
            "height": null,
            "justify_content": null,
            "justify_items": null,
            "left": null,
            "margin": null,
            "max_height": null,
            "max_width": null,
            "min_height": null,
            "min_width": null,
            "object_fit": null,
            "object_position": null,
            "order": null,
            "overflow": null,
            "overflow_x": null,
            "overflow_y": null,
            "padding": null,
            "right": null,
            "top": null,
            "visibility": null,
            "width": "20px"
          }
        },
        "dba77a0d95ef4d5ea09b1cda92ae8e16": {
          "model_module": "@jupyter-widgets/controls",
          "model_name": "ProgressStyleModel",
          "model_module_version": "1.5.0",
          "state": {
            "_model_module": "@jupyter-widgets/controls",
            "_model_module_version": "1.5.0",
            "_model_name": "ProgressStyleModel",
            "_view_count": null,
            "_view_module": "@jupyter-widgets/base",
            "_view_module_version": "1.2.0",
            "_view_name": "StyleView",
            "bar_color": null,
            "description_width": ""
          }
        },
        "f7503a3fdc9846afa2167dd8ee0db086": {
          "model_module": "@jupyter-widgets/base",
          "model_name": "LayoutModel",
          "model_module_version": "1.2.0",
          "state": {
            "_model_module": "@jupyter-widgets/base",
            "_model_module_version": "1.2.0",
            "_model_name": "LayoutModel",
            "_view_count": null,
            "_view_module": "@jupyter-widgets/base",
            "_view_module_version": "1.2.0",
            "_view_name": "LayoutView",
            "align_content": null,
            "align_items": null,
            "align_self": null,
            "border": null,
            "bottom": null,
            "display": null,
            "flex": null,
            "flex_flow": null,
            "grid_area": null,
            "grid_auto_columns": null,
            "grid_auto_flow": null,
            "grid_auto_rows": null,
            "grid_column": null,
            "grid_gap": null,
            "grid_row": null,
            "grid_template_areas": null,
            "grid_template_columns": null,
            "grid_template_rows": null,
            "height": null,
            "justify_content": null,
            "justify_items": null,
            "left": null,
            "margin": null,
            "max_height": null,
            "max_width": null,
            "min_height": null,
            "min_width": null,
            "object_fit": null,
            "object_position": null,
            "order": null,
            "overflow": null,
            "overflow_x": null,
            "overflow_y": null,
            "padding": null,
            "right": null,
            "top": null,
            "visibility": null,
            "width": null
          }
        },
        "0e8daaf2ba254157bc17bdcf5e34d002": {
          "model_module": "@jupyter-widgets/controls",
          "model_name": "DescriptionStyleModel",
          "model_module_version": "1.5.0",
          "state": {
            "_model_module": "@jupyter-widgets/controls",
            "_model_module_version": "1.5.0",
            "_model_name": "DescriptionStyleModel",
            "_view_count": null,
            "_view_module": "@jupyter-widgets/base",
            "_view_module_version": "1.2.0",
            "_view_name": "StyleView",
            "description_width": ""
          }
        },
        "bacdbcb4ab044581bbd13d705bd8e3a8": {
          "model_module": "@jupyter-widgets/controls",
          "model_name": "HBoxModel",
          "model_module_version": "1.5.0",
          "state": {
            "_dom_classes": [],
            "_model_module": "@jupyter-widgets/controls",
            "_model_module_version": "1.5.0",
            "_model_name": "HBoxModel",
            "_view_count": null,
            "_view_module": "@jupyter-widgets/controls",
            "_view_module_version": "1.5.0",
            "_view_name": "HBoxView",
            "box_style": "",
            "children": [
              "IPY_MODEL_8289959efada422bb0e5ca13963b0f54",
              "IPY_MODEL_fcd3e48e29fc4f76a1e807c9ec411913",
              "IPY_MODEL_b4b253236db645f7aae7a55b2ddc33a7"
            ],
            "layout": "IPY_MODEL_8fa6919e350547998d74b6d7d3efa8cc"
          }
        },
        "8289959efada422bb0e5ca13963b0f54": {
          "model_module": "@jupyter-widgets/controls",
          "model_name": "HTMLModel",
          "model_module_version": "1.5.0",
          "state": {
            "_dom_classes": [],
            "_model_module": "@jupyter-widgets/controls",
            "_model_module_version": "1.5.0",
            "_model_name": "HTMLModel",
            "_view_count": null,
            "_view_module": "@jupyter-widgets/controls",
            "_view_module_version": "1.5.0",
            "_view_name": "HTMLView",
            "description": "",
            "description_tooltip": null,
            "layout": "IPY_MODEL_a20dc01137834162bc70084f11d0963c",
            "placeholder": "​",
            "style": "IPY_MODEL_c6579331dbc64ad484249c32f38fc3fb",
            "value": "conll2003.py: "
          }
        },
        "fcd3e48e29fc4f76a1e807c9ec411913": {
          "model_module": "@jupyter-widgets/controls",
          "model_name": "FloatProgressModel",
          "model_module_version": "1.5.0",
          "state": {
            "_dom_classes": [],
            "_model_module": "@jupyter-widgets/controls",
            "_model_module_version": "1.5.0",
            "_model_name": "FloatProgressModel",
            "_view_count": null,
            "_view_module": "@jupyter-widgets/controls",
            "_view_module_version": "1.5.0",
            "_view_name": "ProgressView",
            "bar_style": "success",
            "description": "",
            "description_tooltip": null,
            "layout": "IPY_MODEL_7000035f02fe4bb09eceef86c4a7d5a4",
            "max": 1,
            "min": 0,
            "orientation": "horizontal",
            "style": "IPY_MODEL_4a60df488a40471fb9f78c174a474c2c",
            "value": 1
          }
        },
        "b4b253236db645f7aae7a55b2ddc33a7": {
          "model_module": "@jupyter-widgets/controls",
          "model_name": "HTMLModel",
          "model_module_version": "1.5.0",
          "state": {
            "_dom_classes": [],
            "_model_module": "@jupyter-widgets/controls",
            "_model_module_version": "1.5.0",
            "_model_name": "HTMLModel",
            "_view_count": null,
            "_view_module": "@jupyter-widgets/controls",
            "_view_module_version": "1.5.0",
            "_view_name": "HTMLView",
            "description": "",
            "description_tooltip": null,
            "layout": "IPY_MODEL_338c7e9286d149b99db885f11e6c5ccf",
            "placeholder": "​",
            "style": "IPY_MODEL_013ceac9c57c41169661112c615cb485",
            "value": " 9.57k/? [00:00&lt;00:00, 834kB/s]"
          }
        },
        "8fa6919e350547998d74b6d7d3efa8cc": {
          "model_module": "@jupyter-widgets/base",
          "model_name": "LayoutModel",
          "model_module_version": "1.2.0",
          "state": {
            "_model_module": "@jupyter-widgets/base",
            "_model_module_version": "1.2.0",
            "_model_name": "LayoutModel",
            "_view_count": null,
            "_view_module": "@jupyter-widgets/base",
            "_view_module_version": "1.2.0",
            "_view_name": "LayoutView",
            "align_content": null,
            "align_items": null,
            "align_self": null,
            "border": null,
            "bottom": null,
            "display": null,
            "flex": null,
            "flex_flow": null,
            "grid_area": null,
            "grid_auto_columns": null,
            "grid_auto_flow": null,
            "grid_auto_rows": null,
            "grid_column": null,
            "grid_gap": null,
            "grid_row": null,
            "grid_template_areas": null,
            "grid_template_columns": null,
            "grid_template_rows": null,
            "height": null,
            "justify_content": null,
            "justify_items": null,
            "left": null,
            "margin": null,
            "max_height": null,
            "max_width": null,
            "min_height": null,
            "min_width": null,
            "object_fit": null,
            "object_position": null,
            "order": null,
            "overflow": null,
            "overflow_x": null,
            "overflow_y": null,
            "padding": null,
            "right": null,
            "top": null,
            "visibility": null,
            "width": null
          }
        },
        "a20dc01137834162bc70084f11d0963c": {
          "model_module": "@jupyter-widgets/base",
          "model_name": "LayoutModel",
          "model_module_version": "1.2.0",
          "state": {
            "_model_module": "@jupyter-widgets/base",
            "_model_module_version": "1.2.0",
            "_model_name": "LayoutModel",
            "_view_count": null,
            "_view_module": "@jupyter-widgets/base",
            "_view_module_version": "1.2.0",
            "_view_name": "LayoutView",
            "align_content": null,
            "align_items": null,
            "align_self": null,
            "border": null,
            "bottom": null,
            "display": null,
            "flex": null,
            "flex_flow": null,
            "grid_area": null,
            "grid_auto_columns": null,
            "grid_auto_flow": null,
            "grid_auto_rows": null,
            "grid_column": null,
            "grid_gap": null,
            "grid_row": null,
            "grid_template_areas": null,
            "grid_template_columns": null,
            "grid_template_rows": null,
            "height": null,
            "justify_content": null,
            "justify_items": null,
            "left": null,
            "margin": null,
            "max_height": null,
            "max_width": null,
            "min_height": null,
            "min_width": null,
            "object_fit": null,
            "object_position": null,
            "order": null,
            "overflow": null,
            "overflow_x": null,
            "overflow_y": null,
            "padding": null,
            "right": null,
            "top": null,
            "visibility": null,
            "width": null
          }
        },
        "c6579331dbc64ad484249c32f38fc3fb": {
          "model_module": "@jupyter-widgets/controls",
          "model_name": "DescriptionStyleModel",
          "model_module_version": "1.5.0",
          "state": {
            "_model_module": "@jupyter-widgets/controls",
            "_model_module_version": "1.5.0",
            "_model_name": "DescriptionStyleModel",
            "_view_count": null,
            "_view_module": "@jupyter-widgets/base",
            "_view_module_version": "1.2.0",
            "_view_name": "StyleView",
            "description_width": ""
          }
        },
        "7000035f02fe4bb09eceef86c4a7d5a4": {
          "model_module": "@jupyter-widgets/base",
          "model_name": "LayoutModel",
          "model_module_version": "1.2.0",
          "state": {
            "_model_module": "@jupyter-widgets/base",
            "_model_module_version": "1.2.0",
            "_model_name": "LayoutModel",
            "_view_count": null,
            "_view_module": "@jupyter-widgets/base",
            "_view_module_version": "1.2.0",
            "_view_name": "LayoutView",
            "align_content": null,
            "align_items": null,
            "align_self": null,
            "border": null,
            "bottom": null,
            "display": null,
            "flex": null,
            "flex_flow": null,
            "grid_area": null,
            "grid_auto_columns": null,
            "grid_auto_flow": null,
            "grid_auto_rows": null,
            "grid_column": null,
            "grid_gap": null,
            "grid_row": null,
            "grid_template_areas": null,
            "grid_template_columns": null,
            "grid_template_rows": null,
            "height": null,
            "justify_content": null,
            "justify_items": null,
            "left": null,
            "margin": null,
            "max_height": null,
            "max_width": null,
            "min_height": null,
            "min_width": null,
            "object_fit": null,
            "object_position": null,
            "order": null,
            "overflow": null,
            "overflow_x": null,
            "overflow_y": null,
            "padding": null,
            "right": null,
            "top": null,
            "visibility": null,
            "width": "20px"
          }
        },
        "4a60df488a40471fb9f78c174a474c2c": {
          "model_module": "@jupyter-widgets/controls",
          "model_name": "ProgressStyleModel",
          "model_module_version": "1.5.0",
          "state": {
            "_model_module": "@jupyter-widgets/controls",
            "_model_module_version": "1.5.0",
            "_model_name": "ProgressStyleModel",
            "_view_count": null,
            "_view_module": "@jupyter-widgets/base",
            "_view_module_version": "1.2.0",
            "_view_name": "StyleView",
            "bar_color": null,
            "description_width": ""
          }
        },
        "338c7e9286d149b99db885f11e6c5ccf": {
          "model_module": "@jupyter-widgets/base",
          "model_name": "LayoutModel",
          "model_module_version": "1.2.0",
          "state": {
            "_model_module": "@jupyter-widgets/base",
            "_model_module_version": "1.2.0",
            "_model_name": "LayoutModel",
            "_view_count": null,
            "_view_module": "@jupyter-widgets/base",
            "_view_module_version": "1.2.0",
            "_view_name": "LayoutView",
            "align_content": null,
            "align_items": null,
            "align_self": null,
            "border": null,
            "bottom": null,
            "display": null,
            "flex": null,
            "flex_flow": null,
            "grid_area": null,
            "grid_auto_columns": null,
            "grid_auto_flow": null,
            "grid_auto_rows": null,
            "grid_column": null,
            "grid_gap": null,
            "grid_row": null,
            "grid_template_areas": null,
            "grid_template_columns": null,
            "grid_template_rows": null,
            "height": null,
            "justify_content": null,
            "justify_items": null,
            "left": null,
            "margin": null,
            "max_height": null,
            "max_width": null,
            "min_height": null,
            "min_width": null,
            "object_fit": null,
            "object_position": null,
            "order": null,
            "overflow": null,
            "overflow_x": null,
            "overflow_y": null,
            "padding": null,
            "right": null,
            "top": null,
            "visibility": null,
            "width": null
          }
        },
        "013ceac9c57c41169661112c615cb485": {
          "model_module": "@jupyter-widgets/controls",
          "model_name": "DescriptionStyleModel",
          "model_module_version": "1.5.0",
          "state": {
            "_model_module": "@jupyter-widgets/controls",
            "_model_module_version": "1.5.0",
            "_model_name": "DescriptionStyleModel",
            "_view_count": null,
            "_view_module": "@jupyter-widgets/base",
            "_view_module_version": "1.2.0",
            "_view_name": "StyleView",
            "description_width": ""
          }
        }
      }
    }
  },
  "cells": [
    {
      "cell_type": "markdown",
      "source": [
        "# Question4\n"
      ],
      "metadata": {
        "id": "VlJvEmUD9ib_"
      }
    },
    {
      "cell_type": "code",
      "execution_count": null,
      "metadata": {
        "colab": {
          "base_uri": "https://localhost:8080/",
          "height": 1000
        },
        "id": "8ijO4b21fb-4",
        "outputId": "45110365-bc3f-41cf-e978-fb130cf89c3f"
      },
      "outputs": [
        {
          "output_type": "stream",
          "name": "stdout",
          "text": [
            "EXPERIMENT 1: CIFAR-100 → CIFAR-10\n",
            "============================================================\n",
            "Using device: cuda\n"
          ]
        },
        {
          "output_type": "display_data",
          "data": {
            "text/plain": [
              "<IPython.core.display.Javascript object>"
            ],
            "application/javascript": [
              "\n",
              "        window._wandbApiKey = new Promise((resolve, reject) => {\n",
              "            function loadScript(url) {\n",
              "            return new Promise(function(resolve, reject) {\n",
              "                let newScript = document.createElement(\"script\");\n",
              "                newScript.onerror = reject;\n",
              "                newScript.onload = resolve;\n",
              "                document.body.appendChild(newScript);\n",
              "                newScript.src = url;\n",
              "            });\n",
              "            }\n",
              "            loadScript(\"https://cdn.jsdelivr.net/npm/postmate/build/postmate.min.js\").then(() => {\n",
              "            const iframe = document.createElement('iframe')\n",
              "            iframe.style.cssText = \"width:0;height:0;border:none\"\n",
              "            document.body.appendChild(iframe)\n",
              "            const handshake = new Postmate({\n",
              "                container: iframe,\n",
              "                url: 'https://wandb.ai/authorize'\n",
              "            });\n",
              "            const timeout = setTimeout(() => reject(\"Couldn't auto authenticate\"), 5000)\n",
              "            handshake.then(function(child) {\n",
              "                child.on('authorize', data => {\n",
              "                    clearTimeout(timeout)\n",
              "                    resolve(data)\n",
              "                });\n",
              "            });\n",
              "            })\n",
              "        });\n",
              "    "
            ]
          },
          "metadata": {}
        },
        {
          "output_type": "stream",
          "name": "stderr",
          "text": [
            "\u001b[34m\u001b[1mwandb\u001b[0m: \u001b[33mWARNING\u001b[0m If you're specifying your api key in code, ensure this code is not shared publicly.\n",
            "\u001b[34m\u001b[1mwandb\u001b[0m: \u001b[33mWARNING\u001b[0m Consider setting the WANDB_API_KEY environment variable, or running `wandb login` from the command line.\n",
            "\u001b[34m\u001b[1mwandb\u001b[0m: No netrc file found, creating one.\n",
            "\u001b[34m\u001b[1mwandb\u001b[0m: Appending key for api.wandb.ai to your netrc file: /root/.netrc\n",
            "\u001b[34m\u001b[1mwandb\u001b[0m: Currently logged in as: \u001b[33m112201026\u001b[0m (\u001b[33m112201026-indian-institute-of-technology-palakkad\u001b[0m) to \u001b[32mhttps://api.wandb.ai\u001b[0m. Use \u001b[1m`wandb login --relogin`\u001b[0m to force relogin\n"
          ]
        },
        {
          "output_type": "display_data",
          "data": {
            "text/plain": [
              "<IPython.core.display.HTML object>"
            ],
            "text/html": []
          },
          "metadata": {}
        },
        {
          "output_type": "display_data",
          "data": {
            "text/plain": [
              "<IPython.core.display.HTML object>"
            ],
            "text/html": [
              "Tracking run with wandb version 0.22.2"
            ]
          },
          "metadata": {}
        },
        {
          "output_type": "display_data",
          "data": {
            "text/plain": [
              "<IPython.core.display.HTML object>"
            ],
            "text/html": [
              "Run data is saved locally in <code>/content/wandb/run-20251013_165516-rvfce0fu</code>"
            ]
          },
          "metadata": {}
        },
        {
          "output_type": "display_data",
          "data": {
            "text/plain": [
              "<IPython.core.display.HTML object>"
            ],
            "text/html": [
              "Syncing run <strong><a href='https://wandb.ai/112201026-indian-institute-of-technology-palakkad/cifar-sequential-fast/runs/rvfce0fu' target=\"_blank\">exp1_C100→C10</a></strong> to <a href='https://wandb.ai/112201026-indian-institute-of-technology-palakkad/cifar-sequential-fast' target=\"_blank\">Weights & Biases</a> (<a href='https://wandb.me/developer-guide' target=\"_blank\">docs</a>)<br>"
            ]
          },
          "metadata": {}
        },
        {
          "output_type": "display_data",
          "data": {
            "text/plain": [
              "<IPython.core.display.HTML object>"
            ],
            "text/html": [
              " View project at <a href='https://wandb.ai/112201026-indian-institute-of-technology-palakkad/cifar-sequential-fast' target=\"_blank\">https://wandb.ai/112201026-indian-institute-of-technology-palakkad/cifar-sequential-fast</a>"
            ]
          },
          "metadata": {}
        },
        {
          "output_type": "display_data",
          "data": {
            "text/plain": [
              "<IPython.core.display.HTML object>"
            ],
            "text/html": [
              " View run at <a href='https://wandb.ai/112201026-indian-institute-of-technology-palakkad/cifar-sequential-fast/runs/rvfce0fu' target=\"_blank\">https://wandb.ai/112201026-indian-institute-of-technology-palakkad/cifar-sequential-fast/runs/rvfce0fu</a>"
            ]
          },
          "metadata": {}
        },
        {
          "output_type": "stream",
          "name": "stderr",
          "text": [
            "100%|██████████| 169M/169M [00:25<00:00, 6.64MB/s]\n",
            "100%|██████████| 170M/170M [00:14<00:00, 12.0MB/s]\n"
          ]
        },
        {
          "output_type": "stream",
          "name": "stdout",
          "text": [
            "\n",
            "Phase 1: Training on CIFAR100...\n",
            "  Epoch 5/100: Test Acc = 10.92%\n",
            "  Epoch 10/100: Test Acc = 17.20%\n",
            "  Epoch 15/100: Test Acc = 18.24%\n",
            "  Epoch 20/100: Test Acc = 17.90%\n",
            "  Epoch 25/100: Test Acc = 17.73%\n",
            "  Epoch 30/100: Test Acc = 18.33%\n",
            "  Epoch 35/100: Test Acc = 19.08%\n",
            "  Epoch 40/100: Test Acc = 19.92%\n",
            "  Epoch 45/100: Test Acc = 19.93%\n",
            "  Epoch 50/100: Test Acc = 19.87%\n",
            "  Epoch 55/100: Test Acc = 19.89%\n",
            "  Epoch 60/100: Test Acc = 19.86%\n",
            "  Epoch 65/100: Test Acc = 19.82%\n",
            "  Epoch 70/100: Test Acc = 19.84%\n",
            "  Epoch 75/100: Test Acc = 19.84%\n",
            "  Epoch 80/100: Test Acc = 19.88%\n",
            "  Epoch 85/100: Test Acc = 19.91%\n",
            "  Epoch 90/100: Test Acc = 19.88%\n",
            "  Epoch 95/100: Test Acc = 19.86%\n",
            "  Epoch 100/100: Test Acc = 19.83%\n",
            "  ✓ Final accuracy: 19.83%\n",
            "\n",
            "============================================================\n",
            "Phase 2: Training on CIFAR10 (10% data)\n",
            "============================================================\n",
            "Epoch [5/100] - Loss: 0.5023, Task2: 53.04%, Task1 Retention: 17.90%\n",
            "Epoch [10/100] - Loss: 0.0347, Task2: 52.57%, Task1 Retention: 18.48%\n",
            "Epoch [15/100] - Loss: 0.0022, Task2: 53.30%, Task1 Retention: 18.81%\n",
            "Epoch [20/100] - Loss: 0.0012, Task2: 53.34%, Task1 Retention: 18.90%\n",
            "Epoch [25/100] - Loss: 0.0008, Task2: 53.34%, Task1 Retention: 18.91%\n",
            "Epoch [30/100] - Loss: 0.0007, Task2: 53.42%, Task1 Retention: 18.91%\n",
            "Epoch [35/100] - Loss: 0.0005, Task2: 53.37%, Task1 Retention: 18.89%\n",
            "Epoch [40/100] - Loss: 0.0004, Task2: 53.52%, Task1 Retention: 18.89%\n",
            "Epoch [45/100] - Loss: 0.0004, Task2: 53.49%, Task1 Retention: 18.91%\n",
            "Epoch [50/100] - Loss: 0.0003, Task2: 53.44%, Task1 Retention: 18.85%\n",
            "Epoch [55/100] - Loss: 0.0003, Task2: 53.44%, Task1 Retention: 18.88%\n",
            "Epoch [60/100] - Loss: 0.0003, Task2: 53.46%, Task1 Retention: 18.89%\n",
            "Epoch [65/100] - Loss: 0.0002, Task2: 53.43%, Task1 Retention: 18.91%\n",
            "Epoch [70/100] - Loss: 0.0002, Task2: 53.44%, Task1 Retention: 18.87%\n",
            "Epoch [75/100] - Loss: 0.0002, Task2: 53.44%, Task1 Retention: 18.89%\n",
            "Epoch [80/100] - Loss: 0.0002, Task2: 53.46%, Task1 Retention: 18.89%\n",
            "Epoch [85/100] - Loss: 0.0002, Task2: 53.44%, Task1 Retention: 18.90%\n",
            "Epoch [90/100] - Loss: 0.0002, Task2: 53.50%, Task1 Retention: 18.88%\n",
            "Epoch [95/100] - Loss: 0.0002, Task2: 53.46%, Task1 Retention: 18.92%\n",
            "Epoch [100/100] - Loss: 0.0001, Task2: 53.45%, Task1 Retention: 18.94%\n",
            "\n",
            "============================================================\n",
            "FINAL RESULTS - exp1_C100→C10\n",
            "============================================================\n",
            "CIFAR100 accuracy AFTER Phase 1: 19.83%\n",
            "CIFAR100 accuracy AFTER Phase 2: 18.94%\n",
            "→ Forgetting: 0.89% (MODERATE)\n",
            "\n",
            "CIFAR10 accuracy AFTER Phase 2: 53.45%\n"
          ]
        },
        {
          "output_type": "display_data",
          "data": {
            "text/plain": [
              "<IPython.core.display.HTML object>"
            ],
            "text/html": []
          },
          "metadata": {}
        },
        {
          "output_type": "display_data",
          "data": {
            "text/plain": [
              "<IPython.core.display.HTML object>"
            ],
            "text/html": [
              "<br>    <style><br>        .wandb-row {<br>            display: flex;<br>            flex-direction: row;<br>            flex-wrap: wrap;<br>            justify-content: flex-start;<br>            width: 100%;<br>        }<br>        .wandb-col {<br>            display: flex;<br>            flex-direction: column;<br>            flex-basis: 100%;<br>            flex: 1;<br>            padding: 10px;<br>        }<br>    </style><br><div class=\"wandb-row\"><div class=\"wandb-col\"><h3>Run history:</h3><br/><table class=\"wandb\"><tr><td>CIFAR100_test_acc</td><td>▁▂▄▄▆▇▇▆▇▆▆▆▇▇▇█████████████████████████</td></tr><tr><td>CIFAR100_test_acc_during_task2</td><td>▁▅▇██████▇██████████</td></tr><tr><td>CIFAR100_train_acc</td><td>▁▂▂▂▃▄▅▆▆▆██████████████████████████████</td></tr><tr><td>CIFAR100_train_loss</td><td>██▇▇▆▆▅▅▃▃▂▁▁▁▁▁▁▁▁▁▁▁▁▁▁▁▁▁▁▁▁▁▁▁▁▁▁▁▁▁</td></tr><tr><td>CIFAR10_test_acc</td><td>▁▇▆▅▅███████████████████████████████████</td></tr><tr><td>CIFAR10_train_acc</td><td>▁███████████████████████████████████████</td></tr><tr><td>CIFAR10_train_loss</td><td>█▄▁▁▁▁▁▁▁▁▁▁▁▁▁▁▁▁▁▁▁▁▁▁▁▁▁▁▁▁▁▁▁▁▁▁▁▁▁▁</td></tr><tr><td>epoch</td><td>▁▁▁▁▁▁▂▂▂▂▂▂▂▂▃▃▃▃▃▃▄▄▄▄▄▄▅▅▅▆▆▆▆▆▇▇▇███</td></tr><tr><td>final_CIFAR100_after_task1</td><td>▁</td></tr><tr><td>final_CIFAR100_after_task2</td><td>▁</td></tr><tr><td>+4</td><td>...</td></tr></table><br/></div><div class=\"wandb-col\"><h3>Run summary:</h3><br/><table class=\"wandb\"><tr><td>CIFAR100_test_acc</td><td>19.83</td></tr><tr><td>CIFAR100_test_acc_during_task2</td><td>18.94</td></tr><tr><td>CIFAR100_train_acc</td><td>100</td></tr><tr><td>CIFAR100_train_loss</td><td>0.00019</td></tr><tr><td>CIFAR10_test_acc</td><td>53.45</td></tr><tr><td>CIFAR10_train_acc</td><td>100</td></tr><tr><td>CIFAR10_train_loss</td><td>0.00015</td></tr><tr><td>epoch</td><td>200</td></tr><tr><td>final_CIFAR100_after_task1</td><td>19.83</td></tr><tr><td>final_CIFAR100_after_task2</td><td>18.94</td></tr><tr><td>+4</td><td>...</td></tr></table><br/></div></div>"
            ]
          },
          "metadata": {}
        },
        {
          "output_type": "display_data",
          "data": {
            "text/plain": [
              "<IPython.core.display.HTML object>"
            ],
            "text/html": [
              " View run <strong style=\"color:#cdcd00\">exp1_C100→C10</strong> at: <a href='https://wandb.ai/112201026-indian-institute-of-technology-palakkad/cifar-sequential-fast/runs/rvfce0fu' target=\"_blank\">https://wandb.ai/112201026-indian-institute-of-technology-palakkad/cifar-sequential-fast/runs/rvfce0fu</a><br> View project at: <a href='https://wandb.ai/112201026-indian-institute-of-technology-palakkad/cifar-sequential-fast' target=\"_blank\">https://wandb.ai/112201026-indian-institute-of-technology-palakkad/cifar-sequential-fast</a><br>Synced 5 W&B file(s), 0 media file(s), 0 artifact file(s) and 0 other file(s)"
            ]
          },
          "metadata": {}
        },
        {
          "output_type": "display_data",
          "data": {
            "text/plain": [
              "<IPython.core.display.HTML object>"
            ],
            "text/html": [
              "Find logs at: <code>./wandb/run-20251013_165516-rvfce0fu/logs</code>"
            ]
          },
          "metadata": {}
        },
        {
          "output_type": "stream",
          "name": "stdout",
          "text": [
            "\n",
            "\n",
            "\n",
            "EXPERIMENT 2: CIFAR-10 → CIFAR-100\n",
            "============================================================\n",
            "Using device: cuda\n"
          ]
        },
        {
          "output_type": "display_data",
          "data": {
            "text/plain": [
              "<IPython.core.display.HTML object>"
            ],
            "text/html": []
          },
          "metadata": {}
        },
        {
          "output_type": "display_data",
          "data": {
            "text/plain": [
              "<IPython.core.display.HTML object>"
            ],
            "text/html": [
              "Tracking run with wandb version 0.22.2"
            ]
          },
          "metadata": {}
        },
        {
          "output_type": "display_data",
          "data": {
            "text/plain": [
              "<IPython.core.display.HTML object>"
            ],
            "text/html": [
              "Run data is saved locally in <code>/content/wandb/run-20251013_170924-6swuq252</code>"
            ]
          },
          "metadata": {}
        },
        {
          "output_type": "display_data",
          "data": {
            "text/plain": [
              "<IPython.core.display.HTML object>"
            ],
            "text/html": [
              "Syncing run <strong><a href='https://wandb.ai/112201026-indian-institute-of-technology-palakkad/cifar-sequential-fast/runs/6swuq252' target=\"_blank\">exp2_C10→C100</a></strong> to <a href='https://wandb.ai/112201026-indian-institute-of-technology-palakkad/cifar-sequential-fast' target=\"_blank\">Weights & Biases</a> (<a href='https://wandb.me/developer-guide' target=\"_blank\">docs</a>)<br>"
            ]
          },
          "metadata": {}
        },
        {
          "output_type": "display_data",
          "data": {
            "text/plain": [
              "<IPython.core.display.HTML object>"
            ],
            "text/html": [
              " View project at <a href='https://wandb.ai/112201026-indian-institute-of-technology-palakkad/cifar-sequential-fast' target=\"_blank\">https://wandb.ai/112201026-indian-institute-of-technology-palakkad/cifar-sequential-fast</a>"
            ]
          },
          "metadata": {}
        },
        {
          "output_type": "display_data",
          "data": {
            "text/plain": [
              "<IPython.core.display.HTML object>"
            ],
            "text/html": [
              " View run at <a href='https://wandb.ai/112201026-indian-institute-of-technology-palakkad/cifar-sequential-fast/runs/6swuq252' target=\"_blank\">https://wandb.ai/112201026-indian-institute-of-technology-palakkad/cifar-sequential-fast/runs/6swuq252</a>"
            ]
          },
          "metadata": {}
        },
        {
          "output_type": "stream",
          "name": "stdout",
          "text": [
            "\n",
            "Phase 1: Training on CIFAR10...\n",
            "  Epoch 5/100: Test Acc = 45.83%\n",
            "  Epoch 10/100: Test Acc = 53.07%\n",
            "  Epoch 15/100: Test Acc = 55.28%\n",
            "  Epoch 20/100: Test Acc = 56.01%\n",
            "  Epoch 25/100: Test Acc = 56.93%\n",
            "  Epoch 30/100: Test Acc = 56.95%\n",
            "  Epoch 35/100: Test Acc = 56.98%\n",
            "  Epoch 40/100: Test Acc = 56.90%\n",
            "  Epoch 45/100: Test Acc = 56.94%\n",
            "  Epoch 50/100: Test Acc = 56.83%\n",
            "  Epoch 55/100: Test Acc = 56.90%\n",
            "  Epoch 60/100: Test Acc = 56.87%\n",
            "  Epoch 65/100: Test Acc = 56.82%\n",
            "  Epoch 70/100: Test Acc = 56.83%\n",
            "  Epoch 75/100: Test Acc = 56.86%\n",
            "  Epoch 80/100: Test Acc = 56.88%\n",
            "  Epoch 85/100: Test Acc = 56.74%\n",
            "  Epoch 90/100: Test Acc = 56.70%\n",
            "  Epoch 95/100: Test Acc = 56.76%\n",
            "  Epoch 100/100: Test Acc = 56.72%\n",
            "  ✓ Final accuracy: 56.72%\n",
            "\n",
            "============================================================\n",
            "Phase 2: Training on CIFAR100 (10% data)\n",
            "============================================================\n",
            "Epoch [5/100] - Loss: 1.9876, Task2: 18.54%, Task1 Retention: 53.40%\n",
            "Epoch [10/100] - Loss: 0.3358, Task2: 19.41%, Task1 Retention: 53.55%\n",
            "Epoch [15/100] - Loss: 0.0327, Task2: 20.12%, Task1 Retention: 52.58%\n",
            "Epoch [20/100] - Loss: 0.0026, Task2: 20.96%, Task1 Retention: 53.22%\n",
            "Epoch [25/100] - Loss: 0.0016, Task2: 20.93%, Task1 Retention: 53.24%\n",
            "Epoch [30/100] - Loss: 0.0012, Task2: 20.92%, Task1 Retention: 53.28%\n",
            "Epoch [35/100] - Loss: 0.0010, Task2: 20.93%, Task1 Retention: 53.25%\n",
            "Epoch [40/100] - Loss: 0.0008, Task2: 20.98%, Task1 Retention: 53.27%\n",
            "Epoch [45/100] - Loss: 0.0007, Task2: 20.92%, Task1 Retention: 53.27%\n",
            "Epoch [50/100] - Loss: 0.0006, Task2: 20.98%, Task1 Retention: 53.30%\n",
            "Epoch [55/100] - Loss: 0.0005, Task2: 20.92%, Task1 Retention: 53.31%\n",
            "Epoch [60/100] - Loss: 0.0005, Task2: 20.94%, Task1 Retention: 53.34%\n",
            "Epoch [65/100] - Loss: 0.0004, Task2: 20.97%, Task1 Retention: 53.33%\n",
            "Epoch [70/100] - Loss: 0.0004, Task2: 20.97%, Task1 Retention: 53.32%\n",
            "Epoch [75/100] - Loss: 0.0004, Task2: 20.97%, Task1 Retention: 53.34%\n",
            "Epoch [80/100] - Loss: 0.0003, Task2: 20.95%, Task1 Retention: 53.38%\n",
            "Epoch [85/100] - Loss: 0.0003, Task2: 20.93%, Task1 Retention: 53.34%\n",
            "Epoch [90/100] - Loss: 0.0003, Task2: 20.94%, Task1 Retention: 53.32%\n",
            "Epoch [95/100] - Loss: 0.0003, Task2: 20.93%, Task1 Retention: 53.31%\n",
            "Epoch [100/100] - Loss: 0.0003, Task2: 20.93%, Task1 Retention: 53.31%\n",
            "\n",
            "============================================================\n",
            "FINAL RESULTS - exp2_C10→C100\n",
            "============================================================\n",
            "CIFAR10 accuracy AFTER Phase 1: 56.72%\n",
            "CIFAR10 accuracy AFTER Phase 2: 53.31%\n",
            "→ Forgetting: 3.41% (MODERATE)\n",
            "\n",
            "CIFAR100 accuracy AFTER Phase 2: 20.93%\n"
          ]
        },
        {
          "output_type": "display_data",
          "data": {
            "text/plain": [
              "<IPython.core.display.HTML object>"
            ],
            "text/html": []
          },
          "metadata": {}
        },
        {
          "output_type": "display_data",
          "data": {
            "text/plain": [
              "<IPython.core.display.HTML object>"
            ],
            "text/html": [
              "<br>    <style><br>        .wandb-row {<br>            display: flex;<br>            flex-direction: row;<br>            flex-wrap: wrap;<br>            justify-content: flex-start;<br>            width: 100%;<br>        }<br>        .wandb-col {<br>            display: flex;<br>            flex-direction: column;<br>            flex-basis: 100%;<br>            flex: 1;<br>            padding: 10px;<br>        }<br>    </style><br><div class=\"wandb-row\"><div class=\"wandb-col\"><h3>Run history:</h3><br/><table class=\"wandb\"><tr><td>CIFAR100_test_acc</td><td>▁▆▇▇▇▇██████████████████████████████████</td></tr><tr><td>CIFAR100_train_acc</td><td>▁▂▄▇▇███████████████████████████████████</td></tr><tr><td>CIFAR100_train_loss</td><td>█▅▄▃▃▁▁▁▁▁▁▁▁▁▁▁▁▁▁▁▁▁▁▁▁▁▁▁▁▁▁▁▁▁▁▁▁▁▁▁</td></tr><tr><td>CIFAR10_test_acc</td><td>▁▄▅▅▆▇▇▇▇▇██████████████████████████████</td></tr><tr><td>CIFAR10_test_acc_during_task2</td><td>▇█▁▆▆▆▆▆▆▆▆▆▆▆▆▇▆▆▆▆</td></tr><tr><td>CIFAR10_train_acc</td><td>▁▃▄▅▆▇██████████████████████████████████</td></tr><tr><td>CIFAR10_train_loss</td><td>█▇▆▆▄▂▂▂▁▁▁▁▁▁▁▁▁▁▁▁▁▁▁▁▁▁▁▁▁▁▁▁▁▁▁▁▁▁▁▁</td></tr><tr><td>epoch</td><td>▁▂▂▂▂▂▃▃▃▃▃▃▃▃▄▄▄▄▄▅▅▅▅▅▆▆▆▆▆▆▇▇▇▇▇▇████</td></tr><tr><td>final_CIFAR100_acc</td><td>▁</td></tr><tr><td>final_CIFAR10_after_task1</td><td>▁</td></tr><tr><td>+4</td><td>...</td></tr></table><br/></div><div class=\"wandb-col\"><h3>Run summary:</h3><br/><table class=\"wandb\"><tr><td>CIFAR100_test_acc</td><td>20.93</td></tr><tr><td>CIFAR100_train_acc</td><td>100</td></tr><tr><td>CIFAR100_train_loss</td><td>0.00027</td></tr><tr><td>CIFAR10_test_acc</td><td>56.72</td></tr><tr><td>CIFAR10_test_acc_during_task2</td><td>53.31</td></tr><tr><td>CIFAR10_train_acc</td><td>100</td></tr><tr><td>CIFAR10_train_loss</td><td>0.00022</td></tr><tr><td>epoch</td><td>200</td></tr><tr><td>final_CIFAR100_acc</td><td>20.93</td></tr><tr><td>final_CIFAR10_after_task1</td><td>56.72</td></tr><tr><td>+4</td><td>...</td></tr></table><br/></div></div>"
            ]
          },
          "metadata": {}
        },
        {
          "output_type": "display_data",
          "data": {
            "text/plain": [
              "<IPython.core.display.HTML object>"
            ],
            "text/html": [
              " View run <strong style=\"color:#cdcd00\">exp2_C10→C100</strong> at: <a href='https://wandb.ai/112201026-indian-institute-of-technology-palakkad/cifar-sequential-fast/runs/6swuq252' target=\"_blank\">https://wandb.ai/112201026-indian-institute-of-technology-palakkad/cifar-sequential-fast/runs/6swuq252</a><br> View project at: <a href='https://wandb.ai/112201026-indian-institute-of-technology-palakkad/cifar-sequential-fast' target=\"_blank\">https://wandb.ai/112201026-indian-institute-of-technology-palakkad/cifar-sequential-fast</a><br>Synced 5 W&B file(s), 0 media file(s), 0 artifact file(s) and 0 other file(s)"
            ]
          },
          "metadata": {}
        },
        {
          "output_type": "display_data",
          "data": {
            "text/plain": [
              "<IPython.core.display.HTML object>"
            ],
            "text/html": [
              "Find logs at: <code>./wandb/run-20251013_170924-6swuq252/logs</code>"
            ]
          },
          "metadata": {}
        },
        {
          "output_type": "stream",
          "name": "stdout",
          "text": [
            "\n",
            "\n",
            "\n",
            "============================================================\n",
            "COMPARATIVE ANALYSIS\n",
            "============================================================\n",
            "\n",
            "Experiment 1 (CIFAR-100 → CIFAR-10):\n",
            "  Task 1 (C100) after training: 19.83%\n",
            "  Task 1 (C100) after Task 2:  18.94%\n",
            "  Task 2 (C10) final:           53.45%\n",
            "  → Forgetting:                 0.89%\n",
            "\n",
            "Experiment 2 (CIFAR-10 → CIFAR-100):\n",
            "  Task 1 (C10) after training:  56.72%\n",
            "  Task 1 (C10) after Task 2:    53.31%\n",
            "  Task 2 (C100) final:          20.93%\n",
            "  → Forgetting:                 3.41%\n"
          ]
        }
      ],
      "source": [
        "import torch\n",
        "import torch.nn as nn\n",
        "import torch.optim as optim\n",
        "import torchvision\n",
        "import torchvision.transforms as transforms\n",
        "import wandb\n",
        "from torch.utils.data import DataLoader, Subset\n",
        "import numpy as np\n",
        "\n",
        "# Very Simple CNN Model\n",
        "class TinyCNN(nn.Module):\n",
        "    def __init__(self, num_classes=10):\n",
        "        super(TinyCNN, self).__init__()\n",
        "        self.features = nn.Sequential(\n",
        "            nn.Conv2d(3, 32, 3, padding=1),\n",
        "            nn.ReLU(),\n",
        "            nn.MaxPool2d(2, 2),\n",
        "            nn.Conv2d(32, 64, 3, padding=1),\n",
        "            nn.ReLU(),\n",
        "            nn.MaxPool2d(2, 2),\n",
        "        )\n",
        "        self.classifier = nn.Sequential(\n",
        "            nn.Flatten(),\n",
        "            nn.Linear(64 * 8 * 8, 128),\n",
        "            nn.ReLU(),\n",
        "            nn.Linear(128, num_classes)\n",
        "        )\n",
        "\n",
        "    def forward(self, x):\n",
        "        x = self.features(x)\n",
        "        x = self.classifier(x)\n",
        "        return x\n",
        "\n",
        "def load_data(dataset_name, batch_size=64, fraction=0.1):\n",
        "    \"\"\"Load CIFAR dataset with only a fraction of training data\"\"\"\n",
        "    transform = transforms.Compose([\n",
        "        transforms.ToTensor(),\n",
        "        transforms.Normalize((0.5, 0.5, 0.5), (0.5, 0.5, 0.5))\n",
        "    ])\n",
        "\n",
        "    if dataset_name == 'CIFAR10':\n",
        "        trainset = torchvision.datasets.CIFAR10(\n",
        "            root='./data', train=True, download=True, transform=transform)\n",
        "        testset = torchvision.datasets.CIFAR10(\n",
        "            root='./data', train=False, download=True, transform=transform)\n",
        "    else:  # CIFAR100\n",
        "        trainset = torchvision.datasets.CIFAR100(\n",
        "            root='./data', train=True, download=True, transform=transform)\n",
        "        testset = torchvision.datasets.CIFAR100(\n",
        "            root='./data', train=False, download=True, transform=transform)\n",
        "\n",
        "    # Use only a fraction of training data\n",
        "    num_train = len(trainset)\n",
        "    indices = np.random.choice(num_train, int(num_train * fraction), replace=False)\n",
        "    trainset = Subset(trainset, indices)\n",
        "\n",
        "    trainloader = DataLoader(trainset, batch_size=batch_size, shuffle=True, num_workers=2)\n",
        "    testloader = DataLoader(testset, batch_size=batch_size, shuffle=False, num_workers=2)\n",
        "\n",
        "    return trainloader, testloader\n",
        "\n",
        "def evaluate(model, testloader, device):\n",
        "    \"\"\"Evaluate model accuracy\"\"\"\n",
        "    model.eval()\n",
        "    correct = 0\n",
        "    total = 0\n",
        "    with torch.no_grad():\n",
        "        for images, labels in testloader:\n",
        "            images, labels = images.to(device), labels.to(device)\n",
        "            outputs = model(images)\n",
        "            _, predicted = torch.max(outputs.data, 1)\n",
        "            total += labels.size(0)\n",
        "            correct += (predicted == labels).sum().item()\n",
        "    accuracy = 100 * correct / total\n",
        "    return accuracy\n",
        "\n",
        "def train_epoch(model, trainloader, criterion, optimizer, device):\n",
        "    \"\"\"Train for one epoch\"\"\"\n",
        "    model.train()\n",
        "    running_loss = 0.0\n",
        "    correct = 0\n",
        "    total = 0\n",
        "\n",
        "    for images, labels in trainloader:\n",
        "        images, labels = images.to(device), labels.to(device)\n",
        "\n",
        "        optimizer.zero_grad()\n",
        "        outputs = model(images)\n",
        "        loss = criterion(outputs, labels)\n",
        "        loss.backward()\n",
        "        optimizer.step()\n",
        "\n",
        "        running_loss += loss.item()\n",
        "        _, predicted = torch.max(outputs.data, 1)\n",
        "        total += labels.size(0)\n",
        "        correct += (predicted == labels).sum().item()\n",
        "\n",
        "    epoch_loss = running_loss / len(trainloader)\n",
        "    epoch_acc = 100 * correct / total\n",
        "    return epoch_loss, epoch_acc\n",
        "\n",
        "def sequential_training(first_dataset, second_dataset, experiment_name, epochs=20):\n",
        "    \"\"\"Train on two datasets sequentially with reduced epochs\"\"\"\n",
        "    device = torch.device('cuda' if torch.cuda.is_available() else 'cpu')\n",
        "    print(f\"Using device: {device}\")\n",
        "\n",
        "    # Initialize W&B\n",
        "    wandb.init(\n",
        "        project=\"cifar-sequential-fast\",\n",
        "        name=experiment_name,\n",
        "        config={\n",
        "            \"first_dataset\": first_dataset,\n",
        "            \"second_dataset\": second_dataset,\n",
        "            \"epochs_per_task\": epochs,\n",
        "            \"learning_rate\": 0.01,\n",
        "            \"batch_size\": 64,\n",
        "            \"architecture\": \"TinyCNN\",\n",
        "            \"data_fraction\": 0.1\n",
        "        }\n",
        "    )\n",
        "\n",
        "    # Load datasets (10% of training data)\n",
        "    num_classes_first = 10 if first_dataset == 'CIFAR10' else 100\n",
        "    num_classes_second = 10 if second_dataset == 'CIFAR10' else 100\n",
        "\n",
        "    train_loader_1, test_loader_1 = load_data(first_dataset, fraction=0.1)\n",
        "    train_loader_2, test_loader_2 = load_data(second_dataset, fraction=0.1)\n",
        "\n",
        "    # Initialize model for first task\n",
        "    model = TinyCNN(num_classes=num_classes_first).to(device)\n",
        "    criterion = nn.CrossEntropyLoss()\n",
        "    optimizer = optim.SGD(model.parameters(), lr=0.01, momentum=0.9)\n",
        "\n",
        "    print(f\"\\nPhase 1: Training on {first_dataset}...\")\n",
        "\n",
        "    # Train on first dataset\n",
        "    for epoch in range(epochs):\n",
        "        train_loss, train_acc = train_epoch(model, train_loader_1, criterion, optimizer, device)\n",
        "        test_acc_1 = evaluate(model, test_loader_1, device)\n",
        "\n",
        "        wandb.log({\n",
        "            \"phase\": 1,\n",
        "            \"epoch\": epoch + 1,\n",
        "            f\"{first_dataset}_train_loss\": train_loss,\n",
        "            f\"{first_dataset}_train_acc\": train_acc,\n",
        "            f\"{first_dataset}_test_acc\": test_acc_1,\n",
        "        })\n",
        "\n",
        "        if (epoch + 1) % 5 == 0:\n",
        "            print(f\"  Epoch {epoch+1}/{epochs}: Test Acc = {test_acc_1:.2f}%\")\n",
        "\n",
        "    # Save accuracy on first task after training\n",
        "    acc_task1_after_task1 = evaluate(model, test_loader_1, device)\n",
        "    print(f\"  ✓ Final accuracy: {acc_task1_after_task1:.2f}%\")\n",
        "\n",
        "    # Save first task model state for later evaluation\n",
        "    first_task_state = {\n",
        "        'features': model.features.state_dict(),\n",
        "        'classifier': model.classifier.state_dict()\n",
        "    }\n",
        "\n",
        "    print(f\"\\n{'='*60}\")\n",
        "    print(f\"Phase 2: Training on {second_dataset} (10% data)\")\n",
        "    print(f\"{'='*60}\")\n",
        "\n",
        "    # Modify classifier for second task\n",
        "    model.classifier = nn.Sequential(\n",
        "        nn.Flatten(),\n",
        "        nn.Linear(64 * 8 * 8, 128),\n",
        "        nn.ReLU(),\n",
        "        nn.Linear(128, num_classes_second)\n",
        "    ).to(device)\n",
        "\n",
        "    optimizer = optim.SGD(model.parameters(), lr=0.01, momentum=0.9)\n",
        "\n",
        "    # Train on second dataset and track forgetting\n",
        "    for epoch in range(epochs):\n",
        "        train_loss, train_acc = train_epoch(model, train_loader_2, criterion, optimizer, device)\n",
        "        test_acc_2 = evaluate(model, test_loader_2, device)\n",
        "\n",
        "        # Check forgetting every 5 epochs\n",
        "        if (epoch + 1) % 5 == 0:\n",
        "            # Temporarily restore first task classifier\n",
        "            temp_classifier = model.classifier\n",
        "            model.classifier = nn.Sequential(\n",
        "                nn.Flatten(),\n",
        "                nn.Linear(64 * 8 * 8, 128),\n",
        "                nn.ReLU(),\n",
        "                nn.Linear(128, num_classes_first)\n",
        "            ).to(device)\n",
        "            model.classifier.load_state_dict(first_task_state['classifier'])\n",
        "\n",
        "            acc_task1_current = evaluate(model, test_loader_1, device)\n",
        "\n",
        "            # Restore second task classifier\n",
        "            model.classifier = temp_classifier\n",
        "\n",
        "            wandb.log({\n",
        "                \"phase\": 2,\n",
        "                \"epoch\": epochs + epoch + 1,\n",
        "                f\"{second_dataset}_train_loss\": train_loss,\n",
        "                f\"{second_dataset}_train_acc\": train_acc,\n",
        "                f\"{second_dataset}_test_acc\": test_acc_2,\n",
        "                f\"{first_dataset}_test_acc_during_task2\": acc_task1_current,\n",
        "                \"forgetting\": acc_task1_after_task1 - acc_task1_current\n",
        "            })\n",
        "\n",
        "            print(f\"Epoch [{epoch+1}/{epochs}] - Loss: {train_loss:.4f}, \"\n",
        "                  f\"Task2: {test_acc_2:.2f}%, Task1 Retention: {acc_task1_current:.2f}%\")\n",
        "        else:\n",
        "            wandb.log({\n",
        "                \"phase\": 2,\n",
        "                \"epoch\": epochs + epoch + 1,\n",
        "                f\"{second_dataset}_train_loss\": train_loss,\n",
        "                f\"{second_dataset}_train_acc\": train_acc,\n",
        "                f\"{second_dataset}_test_acc\": test_acc_2,\n",
        "            })\n",
        "\n",
        "    # Final evaluation on both tasks\n",
        "    acc_task2_after_task2 = evaluate(model, test_loader_2, device)\n",
        "\n",
        "    # Restore first task classifier for final measurement\n",
        "    model.classifier = nn.Sequential(\n",
        "        nn.Flatten(),\n",
        "        nn.Linear(64 * 8 * 8, 128),\n",
        "        nn.ReLU(),\n",
        "        nn.Linear(128, num_classes_first)\n",
        "    ).to(device)\n",
        "    model.classifier.load_state_dict(first_task_state['classifier'])\n",
        "    acc_task1_after_task2 = evaluate(model, test_loader_1, device)\n",
        "\n",
        "    forgetting = acc_task1_after_task1 - acc_task1_after_task2\n",
        "\n",
        "    print(f\"\\n{'='*60}\")\n",
        "    print(f\"FINAL RESULTS - {experiment_name}\")\n",
        "    print(f\"{'='*60}\")\n",
        "    print(f\"{first_dataset} accuracy AFTER Phase 1: {acc_task1_after_task1:.2f}%\")\n",
        "    print(f\"{first_dataset} accuracy AFTER Phase 2: {acc_task1_after_task2:.2f}%\")\n",
        "    print(f\"→ Forgetting: {forgetting:.2f}% ({'CATASTROPHIC' if forgetting > 30 else 'MODERATE'})\")\n",
        "    print(f\"\\n{second_dataset} accuracy AFTER Phase 2: {acc_task2_after_task2:.2f}%\")\n",
        "\n",
        "    wandb.log({\n",
        "        f\"final_{first_dataset}_after_task1\": acc_task1_after_task1,\n",
        "        f\"final_{first_dataset}_after_task2\": acc_task1_after_task2,\n",
        "        f\"final_{second_dataset}_acc\": acc_task2_after_task2,\n",
        "        \"final_forgetting\": forgetting\n",
        "    })\n",
        "\n",
        "    wandb.finish()\n",
        "\n",
        "    return {\n",
        "        'task1_after_task1': acc_task1_after_task1,\n",
        "        'task1_after_task2': acc_task1_after_task2,\n",
        "        'task2_acc': acc_task2_after_task2,\n",
        "        'forgetting': forgetting\n",
        "    }\n",
        "\n",
        "# Main execution\n",
        "if __name__ == \"__main__\":\n",
        "    # Set random seed for reproducibility\n",
        "    torch.manual_seed(42)\n",
        "    np.random.seed(42)\n",
        "\n",
        "    print(\"EXPERIMENT 1: CIFAR-100 → CIFAR-10\")\n",
        "    print(\"=\"*60)\n",
        "    results_exp1 = sequential_training('CIFAR100', 'CIFAR10',\n",
        "                                       'exp1_C100→C10',\n",
        "                                       epochs=100)\n",
        "\n",
        "    print(\"\\n\\n\")\n",
        "    print(\"EXPERIMENT 2: CIFAR-10 → CIFAR-100\")\n",
        "    print(\"=\"*60)\n",
        "    results_exp2 = sequential_training('CIFAR10', 'CIFAR100',\n",
        "                                       'exp2_C10→C100',\n",
        "                                       epochs=100)\n",
        "\n",
        "    print(\"\\n\\n\")\n",
        "    print(\"=\"*60)\n",
        "    print(\"COMPARATIVE ANALYSIS\")\n",
        "    print(\"=\"*60)\n",
        "    print(f\"\\nExperiment 1 (CIFAR-100 → CIFAR-10):\")\n",
        "    print(f\"  Task 1 (C100) after training: {results_exp1['task1_after_task1']:.2f}%\")\n",
        "    print(f\"  Task 1 (C100) after Task 2:  {results_exp1['task1_after_task2']:.2f}%\")\n",
        "    print(f\"  Task 2 (C10) final:           {results_exp1['task2_acc']:.2f}%\")\n",
        "\n",
        "    print(f\"\\nExperiment 2 (CIFAR-10 → CIFAR-100):\")\n",
        "    print(f\"  Task 1 (C10) after training:  {results_exp2['task1_after_task1']:.2f}%\")\n",
        "    print(f\"  Task 1 (C10) after Task 2:    {results_exp2['task1_after_task2']:.2f}%\")\n",
        "    print(f\"  Task 2 (C100) final:          {results_exp2['task2_acc']:.2f}%\")\n"
      ]
    },
    {
      "cell_type": "markdown",
      "source": [
        "# Question 2"
      ],
      "metadata": {
        "id": "aoYnUzLG9o1U"
      }
    },
    {
      "cell_type": "code",
      "source": [
        "import wandb\n",
        "import pandas as pd\n",
        "from datasets import load_dataset\n",
        "from snorkel.labeling import labeling_function, PandasLFApplier\n",
        "\n",
        "ABSTAIN, DATE_MISC, ORG = -1, 0, 1\n",
        "\n",
        "@labeling_function()\n",
        "def lf_year_detection(x):\n",
        "    try:\n",
        "        y = int(x.token)\n",
        "        if 1900 <= y <= 2099:\n",
        "            return DATE_MISC\n",
        "    except ValueError:\n",
        "        return ABSTAIN\n",
        "    return ABSTAIN\n",
        "\n",
        "@labeling_function()\n",
        "def lf_org_suffix(x):\n",
        "    suffixes = [\"Inc.\", \"Corp.\", \"Ltd.\", \"LLC\", \"Group\", \"Co.\"]\n",
        "    return ORG if any(x.token.endswith(s) for s in suffixes) else ABSTAIN\n",
        "\n",
        "# Initialize W&B\n",
        "wandb.init(project=\"Q2-weak-supervision-ner-conll2003\", name=\"lf_analysis\")\n",
        "\n",
        "# Load dataset\n",
        "ds = load_dataset(\"eriktks/conll2003\", revision=\"convert/parquet\")[\"train\"]\n",
        "\n",
        "# Flatten token-level data\n",
        "rows = [\n",
        "    {\n",
        "        \"token\": token,\n",
        "        \"true_label\": DATE_MISC if tag in [7, 8] else ORG if tag in [3, 4] else ABSTAIN\n",
        "    }\n",
        "    for ex in ds\n",
        "    for token, tag in zip(ex[\"tokens\"], ex[\"ner_tags\"])\n",
        "]\n",
        "df = pd.DataFrame(rows)\n",
        "print(f\"Dataset contains {len(df)} tokens.\")\n",
        "\n",
        "# Apply labeling functions\n",
        "lfs = [lf_year_detection, lf_org_suffix]\n",
        "applier = PandasLFApplier(lfs)\n",
        "L = applier.apply(df)\n",
        "\n",
        "# Compute simple coverage and accuracy\n",
        "for lf, col in zip(lfs, L.T):\n",
        "    coverage = (col != ABSTAIN).mean()\n",
        "    accuracy = (col == df[\"true_label\"]).mean()\n",
        "    print(f\"{lf.name}: Coverage = {coverage:.4f}, Accuracy = {accuracy:.4f}\")\n",
        "    wandb.log({\n",
        "        f\"{lf.name}_coverage\": coverage,\n",
        "        f\"{lf.name}_accuracy\": accuracy\n",
        "    })\n",
        "    wandb.run.summary[f\"{lf.name}_coverage\"] = coverage\n",
        "    wandb.run.summary[f\"{lf.name}_accuracy\"] = accuracy\n",
        "\n",
        "wandb.finish()\n"
      ],
      "metadata": {
        "colab": {
          "base_uri": "https://localhost:8080/",
          "height": 597
        },
        "id": "RAeMwttugBas",
        "outputId": "c757e88c-5bde-476b-8ee5-31dc694ace4a"
      },
      "execution_count": null,
      "outputs": [
        {
          "output_type": "display_data",
          "data": {
            "text/plain": [
              "<IPython.core.display.HTML object>"
            ],
            "text/html": []
          },
          "metadata": {}
        },
        {
          "output_type": "display_data",
          "data": {
            "text/plain": [
              "<IPython.core.display.HTML object>"
            ],
            "text/html": [
              "Tracking run with wandb version 0.22.2"
            ]
          },
          "metadata": {}
        },
        {
          "output_type": "display_data",
          "data": {
            "text/plain": [
              "<IPython.core.display.HTML object>"
            ],
            "text/html": [
              "Run data is saved locally in <code>/content/wandb/run-20251013_181846-g36x7ebg</code>"
            ]
          },
          "metadata": {}
        },
        {
          "output_type": "display_data",
          "data": {
            "text/plain": [
              "<IPython.core.display.HTML object>"
            ],
            "text/html": [
              "Syncing run <strong><a href='https://wandb.ai/112201026-indian-institute-of-technology-palakkad/Q2-weak-supervision-ner-conll2003/runs/g36x7ebg' target=\"_blank\">lf_analysis</a></strong> to <a href='https://wandb.ai/112201026-indian-institute-of-technology-palakkad/Q2-weak-supervision-ner-conll2003' target=\"_blank\">Weights & Biases</a> (<a href='https://wandb.me/developer-guide' target=\"_blank\">docs</a>)<br>"
            ]
          },
          "metadata": {}
        },
        {
          "output_type": "display_data",
          "data": {
            "text/plain": [
              "<IPython.core.display.HTML object>"
            ],
            "text/html": [
              " View project at <a href='https://wandb.ai/112201026-indian-institute-of-technology-palakkad/Q2-weak-supervision-ner-conll2003' target=\"_blank\">https://wandb.ai/112201026-indian-institute-of-technology-palakkad/Q2-weak-supervision-ner-conll2003</a>"
            ]
          },
          "metadata": {}
        },
        {
          "output_type": "display_data",
          "data": {
            "text/plain": [
              "<IPython.core.display.HTML object>"
            ],
            "text/html": [
              " View run at <a href='https://wandb.ai/112201026-indian-institute-of-technology-palakkad/Q2-weak-supervision-ner-conll2003/runs/g36x7ebg' target=\"_blank\">https://wandb.ai/112201026-indian-institute-of-technology-palakkad/Q2-weak-supervision-ner-conll2003/runs/g36x7ebg</a>"
            ]
          },
          "metadata": {}
        },
        {
          "output_type": "stream",
          "name": "stdout",
          "text": [
            "Dataset contains 203621 tokens.\n"
          ]
        },
        {
          "output_type": "stream",
          "name": "stderr",
          "text": [
            "100%|██████████| 203621/203621 [00:08<00:00, 25377.82it/s]\n"
          ]
        },
        {
          "output_type": "stream",
          "name": "stdout",
          "text": [
            "lf_year_detection: Coverage = 0.0027, Accuracy = 0.9256\n",
            "lf_org_suffix: Coverage = 0.0002, Accuracy = 0.9284\n"
          ]
        },
        {
          "output_type": "display_data",
          "data": {
            "text/plain": [
              "<IPython.core.display.HTML object>"
            ],
            "text/html": []
          },
          "metadata": {}
        },
        {
          "output_type": "display_data",
          "data": {
            "text/plain": [
              "<IPython.core.display.HTML object>"
            ],
            "text/html": [
              "<br>    <style><br>        .wandb-row {<br>            display: flex;<br>            flex-direction: row;<br>            flex-wrap: wrap;<br>            justify-content: flex-start;<br>            width: 100%;<br>        }<br>        .wandb-col {<br>            display: flex;<br>            flex-direction: column;<br>            flex-basis: 100%;<br>            flex: 1;<br>            padding: 10px;<br>        }<br>    </style><br><div class=\"wandb-row\"><div class=\"wandb-col\"><h3>Run history:</h3><br/><table class=\"wandb\"><tr><td>lf_org_suffix_accuracy</td><td>▁</td></tr><tr><td>lf_org_suffix_coverage</td><td>▁</td></tr><tr><td>lf_year_detection_accuracy</td><td>▁</td></tr><tr><td>lf_year_detection_coverage</td><td>▁</td></tr></table><br/></div><div class=\"wandb-col\"><h3>Run summary:</h3><br/><table class=\"wandb\"><tr><td>lf_org_suffix_accuracy</td><td>0.92835</td></tr><tr><td>lf_org_suffix_coverage</td><td>0.00023</td></tr><tr><td>lf_year_detection_accuracy</td><td>0.92558</td></tr><tr><td>lf_year_detection_coverage</td><td>0.00267</td></tr></table><br/></div></div>"
            ]
          },
          "metadata": {}
        },
        {
          "output_type": "display_data",
          "data": {
            "text/plain": [
              "<IPython.core.display.HTML object>"
            ],
            "text/html": [
              " View run <strong style=\"color:#cdcd00\">lf_analysis</strong> at: <a href='https://wandb.ai/112201026-indian-institute-of-technology-palakkad/Q2-weak-supervision-ner-conll2003/runs/g36x7ebg' target=\"_blank\">https://wandb.ai/112201026-indian-institute-of-technology-palakkad/Q2-weak-supervision-ner-conll2003/runs/g36x7ebg</a><br> View project at: <a href='https://wandb.ai/112201026-indian-institute-of-technology-palakkad/Q2-weak-supervision-ner-conll2003' target=\"_blank\">https://wandb.ai/112201026-indian-institute-of-technology-palakkad/Q2-weak-supervision-ner-conll2003</a><br>Synced 5 W&B file(s), 0 media file(s), 0 artifact file(s) and 0 other file(s)"
            ]
          },
          "metadata": {}
        },
        {
          "output_type": "display_data",
          "data": {
            "text/plain": [
              "<IPython.core.display.HTML object>"
            ],
            "text/html": [
              "Find logs at: <code>./wandb/run-20251013_181846-g36x7ebg/logs</code>"
            ]
          },
          "metadata": {}
        }
      ]
    },
    {
      "cell_type": "markdown",
      "source": [
        "# Question 3"
      ],
      "metadata": {
        "id": "uk561cB_9s2I"
      }
    },
    {
      "cell_type": "code",
      "source": [
        "import wandb\n",
        "import pandas as pd\n",
        "import re\n",
        "from datasets import load_dataset\n",
        "from snorkel.labeling import labeling_function, PandasLFApplier\n",
        "from snorkel.labeling.model import MajorityLabelVoter\n",
        "\n",
        "ABSTAIN = -1\n",
        "ORGANIZATION = 0\n",
        "MISC = 1\n",
        "\n",
        "@labeling_function()\n",
        "def lf_year_misc(x):\n",
        "    return MISC if re.fullmatch(r\"(19|20)\\d{2}\", x.token) else ABSTAIN\n",
        "\n",
        "@labeling_function()\n",
        "def lf_org_suffixes(x):\n",
        "    suffixes = {\"Inc.\", \"Corp.\", \"Ltd.\"}\n",
        "    return ORGANIZATION if any(x.token.endswith(s) for s in suffixes) else ABSTAIN\n",
        "\n",
        "# Initialize W&B\n",
        "run = wandb.init(project=\"Q3\", job_type=\"majority_voter_eval\")\n",
        "\n",
        "# Load dataset (mirrored, parquet version)\n",
        "dataset = load_dataset(\"eriktks/conll2003\", revision=\"convert/parquet\", split=\"train\")\n",
        "\n",
        "# Flatten token-level data\n",
        "rows = [\n",
        "    {\n",
        "        \"token\": token,\n",
        "        \"true_label\": ORGANIZATION if tag in [3, 4] else MISC if tag in [7, 8] else ABSTAIN\n",
        "    }\n",
        "    for ex in dataset\n",
        "    for token, tag in zip(ex[\"tokens\"], ex[\"ner_tags\"])\n",
        "]\n",
        "df = pd.DataFrame(rows)\n",
        "\n",
        "# Apply labeling functions\n",
        "lfs = [lf_year_misc, lf_org_suffixes]\n",
        "applier = PandasLFApplier(lfs=lfs)\n",
        "L_train = applier.apply(df)\n",
        "\n",
        "# Majority Label Voter\n",
        "majority_model = MajorityLabelVoter()\n",
        "has_label = (L_train != ABSTAIN).any(axis=1)\n",
        "\n",
        "L_train_labeled = L_train[has_label]\n",
        "y_true_labeled = df[\"true_label\"].values[has_label]\n",
        "\n",
        "score = majority_model.score(L=L_train_labeled, Y=y_true_labeled, tie_break_policy=\"random\")\n",
        "accuracy = score[\"accuracy\"]\n",
        "\n",
        "print(f\"Majority Label Voter Accuracy: {accuracy:.4f}\")\n",
        "\n",
        "wandb.summary[\"majority_voter_accuracy\"] = accuracy\n",
        "wandb.log({\"majority_voter_accuracy\": accuracy})\n",
        "\n",
        "run.finish()\n"
      ],
      "metadata": {
        "colab": {
          "base_uri": "https://localhost:8080/",
          "height": 525
        },
        "id": "KaAn223Tw4m-",
        "outputId": "99b585a0-abd9-47ac-da6c-78ba51330668"
      },
      "execution_count": null,
      "outputs": [
        {
          "output_type": "display_data",
          "data": {
            "text/plain": [
              "<IPython.core.display.HTML object>"
            ],
            "text/html": [
              "Finishing previous runs because reinit is set to 'default'."
            ]
          },
          "metadata": {}
        },
        {
          "output_type": "display_data",
          "data": {
            "text/plain": [
              "<IPython.core.display.HTML object>"
            ],
            "text/html": []
          },
          "metadata": {}
        },
        {
          "output_type": "display_data",
          "data": {
            "text/plain": [
              "<IPython.core.display.HTML object>"
            ],
            "text/html": [
              " View run <strong style=\"color:#cdcd00\">revived-puddle-1</strong> at: <a href='https://wandb.ai/112201026-indian-institute-of-technology-palakkad/Q3/runs/gamtp6zg' target=\"_blank\">https://wandb.ai/112201026-indian-institute-of-technology-palakkad/Q3/runs/gamtp6zg</a><br> View project at: <a href='https://wandb.ai/112201026-indian-institute-of-technology-palakkad/Q3' target=\"_blank\">https://wandb.ai/112201026-indian-institute-of-technology-palakkad/Q3</a><br>Synced 5 W&B file(s), 0 media file(s), 0 artifact file(s) and 0 other file(s)"
            ]
          },
          "metadata": {}
        },
        {
          "output_type": "display_data",
          "data": {
            "text/plain": [
              "<IPython.core.display.HTML object>"
            ],
            "text/html": [
              "Find logs at: <code>./wandb/run-20251013_182150-gamtp6zg/logs</code>"
            ]
          },
          "metadata": {}
        },
        {
          "output_type": "display_data",
          "data": {
            "text/plain": [
              "<IPython.core.display.HTML object>"
            ],
            "text/html": []
          },
          "metadata": {}
        },
        {
          "output_type": "display_data",
          "data": {
            "text/plain": [
              "<IPython.core.display.HTML object>"
            ],
            "text/html": [
              "Tracking run with wandb version 0.22.2"
            ]
          },
          "metadata": {}
        },
        {
          "output_type": "display_data",
          "data": {
            "text/plain": [
              "<IPython.core.display.HTML object>"
            ],
            "text/html": [
              "Run data is saved locally in <code>/content/wandb/run-20251013_182241-afdqyw2a</code>"
            ]
          },
          "metadata": {}
        },
        {
          "output_type": "display_data",
          "data": {
            "text/plain": [
              "<IPython.core.display.HTML object>"
            ],
            "text/html": [
              "Syncing run <strong><a href='https://wandb.ai/112201026-indian-institute-of-technology-palakkad/Q3/runs/afdqyw2a' target=\"_blank\">dashing-morning-2</a></strong> to <a href='https://wandb.ai/112201026-indian-institute-of-technology-palakkad/Q3' target=\"_blank\">Weights & Biases</a> (<a href='https://wandb.me/developer-guide' target=\"_blank\">docs</a>)<br>"
            ]
          },
          "metadata": {}
        },
        {
          "output_type": "display_data",
          "data": {
            "text/plain": [
              "<IPython.core.display.HTML object>"
            ],
            "text/html": [
              " View project at <a href='https://wandb.ai/112201026-indian-institute-of-technology-palakkad/Q3' target=\"_blank\">https://wandb.ai/112201026-indian-institute-of-technology-palakkad/Q3</a>"
            ]
          },
          "metadata": {}
        },
        {
          "output_type": "display_data",
          "data": {
            "text/plain": [
              "<IPython.core.display.HTML object>"
            ],
            "text/html": [
              " View run at <a href='https://wandb.ai/112201026-indian-institute-of-technology-palakkad/Q3/runs/afdqyw2a' target=\"_blank\">https://wandb.ai/112201026-indian-institute-of-technology-palakkad/Q3/runs/afdqyw2a</a>"
            ]
          },
          "metadata": {}
        },
        {
          "output_type": "stream",
          "name": "stderr",
          "text": [
            "100%|██████████| 203621/203621 [00:04<00:00, 41532.09it/s]\n"
          ]
        },
        {
          "output_type": "stream",
          "name": "stdout",
          "text": [
            "Majority Label Voter Accuracy: 0.9615\n"
          ]
        },
        {
          "output_type": "display_data",
          "data": {
            "text/plain": [
              "<IPython.core.display.HTML object>"
            ],
            "text/html": []
          },
          "metadata": {}
        },
        {
          "output_type": "display_data",
          "data": {
            "text/plain": [
              "<IPython.core.display.HTML object>"
            ],
            "text/html": [
              "<br>    <style><br>        .wandb-row {<br>            display: flex;<br>            flex-direction: row;<br>            flex-wrap: wrap;<br>            justify-content: flex-start;<br>            width: 100%;<br>        }<br>        .wandb-col {<br>            display: flex;<br>            flex-direction: column;<br>            flex-basis: 100%;<br>            flex: 1;<br>            padding: 10px;<br>        }<br>    </style><br><div class=\"wandb-row\"><div class=\"wandb-col\"><h3>Run history:</h3><br/><table class=\"wandb\"><tr><td>majority_voter_accuracy</td><td>▁</td></tr></table><br/></div><div class=\"wandb-col\"><h3>Run summary:</h3><br/><table class=\"wandb\"><tr><td>majority_voter_accuracy</td><td>0.96154</td></tr></table><br/></div></div>"
            ]
          },
          "metadata": {}
        },
        {
          "output_type": "display_data",
          "data": {
            "text/plain": [
              "<IPython.core.display.HTML object>"
            ],
            "text/html": [
              " View run <strong style=\"color:#cdcd00\">dashing-morning-2</strong> at: <a href='https://wandb.ai/112201026-indian-institute-of-technology-palakkad/Q3/runs/afdqyw2a' target=\"_blank\">https://wandb.ai/112201026-indian-institute-of-technology-palakkad/Q3/runs/afdqyw2a</a><br> View project at: <a href='https://wandb.ai/112201026-indian-institute-of-technology-palakkad/Q3' target=\"_blank\">https://wandb.ai/112201026-indian-institute-of-technology-palakkad/Q3</a><br>Synced 5 W&B file(s), 0 media file(s), 0 artifact file(s) and 0 other file(s)"
            ]
          },
          "metadata": {}
        },
        {
          "output_type": "display_data",
          "data": {
            "text/plain": [
              "<IPython.core.display.HTML object>"
            ],
            "text/html": [
              "Find logs at: <code>./wandb/run-20251013_182241-afdqyw2a/logs</code>"
            ]
          },
          "metadata": {}
        }
      ]
    },
    {
      "cell_type": "markdown",
      "source": [
        "# Question 1"
      ],
      "metadata": {
        "id": "2Djq0bvZ9xUy"
      }
    },
    {
      "cell_type": "code",
      "source": [
        "import wandb\n",
        "from collections import Counter\n",
        "from datasets import load_dataset\n",
        "from tabulate import tabulate\n",
        "\n",
        "# 1. Initialize W&B Run\n",
        "run = wandb.init(project=\"Q1-weak-supervision-ner\", job_type=\"data_analysis\")\n",
        "\n",
        "# 2. Load Dataset\n",
        "dataset = load_dataset(\"conll2003\")\n",
        "\n",
        "# 3. Get Entity Names\n",
        "tag_names = dataset['train'].features['ner_tags'].feature.names\n",
        "\n",
        "# Containers for stats\n",
        "split_stats = {}\n",
        "total_counts = {\n",
        "    \"B\": Counter(),\n",
        "    \"I\": Counter(),\n",
        "    \"combined\": Counter(),\n",
        "}\n",
        "\n",
        "# 4. Iterate over splits\n",
        "for split_name, split_data in dataset.items():\n",
        "    num_samples = len(split_data)\n",
        "\n",
        "    # Counters for each tag type\n",
        "    b_counts = Counter()\n",
        "    i_counts = Counter()\n",
        "    combined_counts = Counter()\n",
        "\n",
        "    for sample in split_data:\n",
        "        for tag_id in sample[\"ner_tags\"]:\n",
        "            tag = tag_names[tag_id]\n",
        "            if tag.startswith(\"B-\"):\n",
        "                entity = tag[2:]\n",
        "                b_counts[entity] += 1\n",
        "                combined_counts[entity] += 1\n",
        "            elif tag.startswith(\"I-\"):\n",
        "                entity = tag[2:]\n",
        "                i_counts[entity] += 1\n",
        "                combined_counts[entity] += 1\n",
        "\n",
        "    # Store results\n",
        "    split_stats[split_name] = {\n",
        "        \"B\": dict(b_counts),\n",
        "        \"I\": dict(i_counts),\n",
        "        \"combined\": dict(combined_counts),\n",
        "    }\n",
        "\n",
        "    # Update totals\n",
        "    total_counts[\"B\"].update(b_counts)\n",
        "    total_counts[\"I\"].update(i_counts)\n",
        "    total_counts[\"combined\"].update(combined_counts)\n",
        "\n",
        "    # Log stats to W&B\n",
        "    wandb.summary[f\"{split_name}_samples\"] = num_samples\n",
        "    for tag_type, counter in [(\"B\", b_counts), (\"I\", i_counts), (\"combined\", combined_counts)]:\n",
        "        for entity, count in counter.items():\n",
        "            wandb.summary[f\"{split_name}_{tag_type}_entity_count_{entity}\"] = count\n",
        "\n",
        "# 5. Log total stats\n",
        "total_samples = sum(len(split) for split in dataset.values())\n",
        "wandb.summary[\"total_samples\"] = total_samples\n",
        "\n",
        "for tag_type, counter in total_counts.items():\n",
        "    for entity, count in counter.items():\n",
        "        wandb.summary[f\"total_{tag_type}_entity_count_{entity}\"] = count\n",
        "\n",
        "run.finish()\n",
        "\n",
        "# 6. Print Results (Formatted)\n",
        "print(\"\\n\" + \"=\" * 50)\n",
        "print(\"DATASET STATISTICS\")\n",
        "print(\"=\" * 50)\n",
        "\n",
        "for split_name, stats in split_stats.items():\n",
        "    print(f\"\\nSplit: {split_name.upper()}\")\n",
        "    print(f\"Number of samples: {len(dataset[split_name])}\\n\")\n",
        "\n",
        "    headers = [\"Tag Type\", \"ORG\", \"MISC\", \"PER\", \"LOC\"]\n",
        "    table = [\n",
        "        [\"B-Tags\",\n",
        "         stats[\"B\"].get(\"ORG\", 0),\n",
        "         stats[\"B\"].get(\"MISC\", 0),\n",
        "         stats[\"B\"].get(\"PER\", 0),\n",
        "         stats[\"B\"].get(\"LOC\", 0)],\n",
        "        [\"I-Tags\",\n",
        "         stats[\"I\"].get(\"ORG\", 0),\n",
        "         stats[\"I\"].get(\"MISC\", 0),\n",
        "         stats[\"I\"].get(\"PER\", 0),\n",
        "         stats[\"I\"].get(\"LOC\", 0)],\n",
        "        [\"Combined (B+I)\",\n",
        "         stats[\"combined\"].get(\"ORG\", 0),\n",
        "         stats[\"combined\"].get(\"MISC\", 0),\n",
        "         stats[\"combined\"].get(\"PER\", 0),\n",
        "         stats[\"combined\"].get(\"LOC\", 0)],\n",
        "    ]\n",
        "    print(tabulate(table, headers=headers, tablefmt=\"grid\"))\n",
        "    print(f\"\\nTotal Samples: {len(dataset[split_name])}\")\n",
        "\n",
        "# Print totals across all splits\n",
        "print(\"\\n\" + \"=\" * 50)\n",
        "print(\"TOTAL ENTITY COUNTS (Across All Splits)\")\n",
        "print(\"=\" * 50)\n",
        "\n",
        "headers = [\"Tag Type\", \"ORG\", \"MISC\", \"PER\", \"LOC\"]\n",
        "total_table = [\n",
        "    [\"B-Tags\",\n",
        "     total_counts[\"B\"].get(\"ORG\", 0),\n",
        "     total_counts[\"B\"].get(\"MISC\", 0),\n",
        "     total_counts[\"B\"].get(\"PER\", 0),\n",
        "     total_counts[\"B\"].get(\"LOC\", 0)],\n",
        "    [\"I-Tags\",\n",
        "     total_counts[\"I\"].get(\"ORG\", 0),\n",
        "     total_counts[\"I\"].get(\"MISC\", 0),\n",
        "     total_counts[\"I\"].get(\"PER\", 0),\n",
        "     total_counts[\"I\"].get(\"LOC\", 0)],\n",
        "    [\"Combined (B+I)\",\n",
        "     total_counts[\"combined\"].get(\"ORG\", 0),\n",
        "     total_counts[\"combined\"].get(\"MISC\", 0),\n",
        "     total_counts[\"combined\"].get(\"PER\", 0),\n",
        "     total_counts[\"combined\"].get(\"LOC\", 0)],\n",
        "]\n",
        "print(tabulate(total_table, headers=headers, tablefmt=\"grid\"))\n",
        "print(f\"\\nTotal Samples Across All Splits: {total_samples}\")\n"
      ],
      "metadata": {
        "id": "LFihG18nz_cB",
        "colab": {
          "base_uri": "https://localhost:8080/",
          "height": 839,
          "referenced_widgets": [
            "9f1a242775c042849f44f46e2c17f521",
            "8a6dd128be634f8e8d34434cea21feca",
            "978dcac8c3bf42bfa25c68d7e5772e34",
            "fae69daad82f400888ad1fe48a202f67",
            "8db4337aa8d149668cd0514709d5321b",
            "35a5297cb15f4fb4845a852e99a6857b",
            "1d126f255e9849bca4a0888e31022287",
            "9ec843b96b0b475e9cb43c8d8df25d0a",
            "dba77a0d95ef4d5ea09b1cda92ae8e16",
            "f7503a3fdc9846afa2167dd8ee0db086",
            "0e8daaf2ba254157bc17bdcf5e34d002",
            "bacdbcb4ab044581bbd13d705bd8e3a8",
            "8289959efada422bb0e5ca13963b0f54",
            "fcd3e48e29fc4f76a1e807c9ec411913",
            "b4b253236db645f7aae7a55b2ddc33a7",
            "8fa6919e350547998d74b6d7d3efa8cc",
            "a20dc01137834162bc70084f11d0963c",
            "c6579331dbc64ad484249c32f38fc3fb",
            "7000035f02fe4bb09eceef86c4a7d5a4",
            "4a60df488a40471fb9f78c174a474c2c",
            "338c7e9286d149b99db885f11e6c5ccf",
            "013ceac9c57c41169661112c615cb485"
          ]
        },
        "outputId": "87ebcad6-75db-4db8-c06d-1e6d1ae10cbd"
      },
      "execution_count": 1,
      "outputs": [
        {
          "output_type": "stream",
          "name": "stderr",
          "text": [
            "/usr/local/lib/python3.12/dist-packages/notebook/notebookapp.py:191: SyntaxWarning: invalid escape sequence '\\/'\n",
            "  | |_| | '_ \\/ _` / _` |  _/ -_)\n"
          ]
        },
        {
          "output_type": "display_data",
          "data": {
            "text/plain": [
              "<IPython.core.display.Javascript object>"
            ],
            "application/javascript": [
              "\n",
              "        window._wandbApiKey = new Promise((resolve, reject) => {\n",
              "            function loadScript(url) {\n",
              "            return new Promise(function(resolve, reject) {\n",
              "                let newScript = document.createElement(\"script\");\n",
              "                newScript.onerror = reject;\n",
              "                newScript.onload = resolve;\n",
              "                document.body.appendChild(newScript);\n",
              "                newScript.src = url;\n",
              "            });\n",
              "            }\n",
              "            loadScript(\"https://cdn.jsdelivr.net/npm/postmate/build/postmate.min.js\").then(() => {\n",
              "            const iframe = document.createElement('iframe')\n",
              "            iframe.style.cssText = \"width:0;height:0;border:none\"\n",
              "            document.body.appendChild(iframe)\n",
              "            const handshake = new Postmate({\n",
              "                container: iframe,\n",
              "                url: 'https://wandb.ai/authorize'\n",
              "            });\n",
              "            const timeout = setTimeout(() => reject(\"Couldn't auto authenticate\"), 5000)\n",
              "            handshake.then(function(child) {\n",
              "                child.on('authorize', data => {\n",
              "                    clearTimeout(timeout)\n",
              "                    resolve(data)\n",
              "                });\n",
              "            });\n",
              "            })\n",
              "        });\n",
              "    "
            ]
          },
          "metadata": {}
        },
        {
          "output_type": "stream",
          "name": "stderr",
          "text": [
            "\u001b[34m\u001b[1mwandb\u001b[0m: Logging into wandb.ai. (Learn how to deploy a W&B server locally: https://wandb.me/wandb-server)\n",
            "\u001b[34m\u001b[1mwandb\u001b[0m: You can find your API key in your browser here: https://wandb.ai/authorize?ref=models\n",
            "wandb: Paste an API key from your profile and hit enter:"
          ]
        },
        {
          "name": "stdout",
          "output_type": "stream",
          "text": [
            " ··········\n"
          ]
        },
        {
          "output_type": "stream",
          "name": "stderr",
          "text": [
            "\u001b[34m\u001b[1mwandb\u001b[0m: \u001b[33mWARNING\u001b[0m If you're specifying your api key in code, ensure this code is not shared publicly.\n",
            "\u001b[34m\u001b[1mwandb\u001b[0m: \u001b[33mWARNING\u001b[0m Consider setting the WANDB_API_KEY environment variable, or running `wandb login` from the command line.\n",
            "\u001b[34m\u001b[1mwandb\u001b[0m: No netrc file found, creating one.\n",
            "\u001b[34m\u001b[1mwandb\u001b[0m: Appending key for api.wandb.ai to your netrc file: /root/.netrc\n",
            "\u001b[34m\u001b[1mwandb\u001b[0m: Currently logged in as: \u001b[33m112201026\u001b[0m (\u001b[33m112201026-indian-institute-of-technology-palakkad\u001b[0m) to \u001b[32mhttps://api.wandb.ai\u001b[0m. Use \u001b[1m`wandb login --relogin`\u001b[0m to force relogin\n"
          ]
        },
        {
          "output_type": "display_data",
          "data": {
            "text/plain": [
              "<IPython.core.display.HTML object>"
            ],
            "text/html": []
          },
          "metadata": {}
        },
        {
          "output_type": "display_data",
          "data": {
            "text/plain": [
              "<IPython.core.display.HTML object>"
            ],
            "text/html": [
              "Tracking run with wandb version 0.22.2"
            ]
          },
          "metadata": {}
        },
        {
          "output_type": "display_data",
          "data": {
            "text/plain": [
              "<IPython.core.display.HTML object>"
            ],
            "text/html": [
              "Run data is saved locally in <code>/content/wandb/run-20251014_042153-z2n9lyf5</code>"
            ]
          },
          "metadata": {}
        },
        {
          "output_type": "display_data",
          "data": {
            "text/plain": [
              "<IPython.core.display.HTML object>"
            ],
            "text/html": [
              "Syncing run <strong><a href='https://wandb.ai/112201026-indian-institute-of-technology-palakkad/Q1-weak-supervision-ner/runs/z2n9lyf5' target=\"_blank\">worthy-oath-15</a></strong> to <a href='https://wandb.ai/112201026-indian-institute-of-technology-palakkad/Q1-weak-supervision-ner' target=\"_blank\">Weights & Biases</a> (<a href='https://wandb.me/developer-guide' target=\"_blank\">docs</a>)<br>"
            ]
          },
          "metadata": {}
        },
        {
          "output_type": "display_data",
          "data": {
            "text/plain": [
              "<IPython.core.display.HTML object>"
            ],
            "text/html": [
              " View project at <a href='https://wandb.ai/112201026-indian-institute-of-technology-palakkad/Q1-weak-supervision-ner' target=\"_blank\">https://wandb.ai/112201026-indian-institute-of-technology-palakkad/Q1-weak-supervision-ner</a>"
            ]
          },
          "metadata": {}
        },
        {
          "output_type": "display_data",
          "data": {
            "text/plain": [
              "<IPython.core.display.HTML object>"
            ],
            "text/html": [
              " View run at <a href='https://wandb.ai/112201026-indian-institute-of-technology-palakkad/Q1-weak-supervision-ner/runs/z2n9lyf5' target=\"_blank\">https://wandb.ai/112201026-indian-institute-of-technology-palakkad/Q1-weak-supervision-ner/runs/z2n9lyf5</a>"
            ]
          },
          "metadata": {}
        },
        {
          "output_type": "stream",
          "name": "stderr",
          "text": [
            "/usr/local/lib/python3.12/dist-packages/huggingface_hub/utils/_auth.py:94: UserWarning: \n",
            "The secret `HF_TOKEN` does not exist in your Colab secrets.\n",
            "To authenticate with the Hugging Face Hub, create a token in your settings tab (https://huggingface.co/settings/tokens), set it as secret in your Google Colab and restart your session.\n",
            "You will be able to reuse this secret in all of your notebooks.\n",
            "Please note that authentication is recommended but still optional to access public models or datasets.\n",
            "  warnings.warn(\n"
          ]
        },
        {
          "output_type": "display_data",
          "data": {
            "text/plain": [
              "README.md: 0.00B [00:00, ?B/s]"
            ],
            "application/vnd.jupyter.widget-view+json": {
              "version_major": 2,
              "version_minor": 0,
              "model_id": "9f1a242775c042849f44f46e2c17f521"
            }
          },
          "metadata": {}
        },
        {
          "output_type": "display_data",
          "data": {
            "text/plain": [
              "conll2003.py: 0.00B [00:00, ?B/s]"
            ],
            "application/vnd.jupyter.widget-view+json": {
              "version_major": 2,
              "version_minor": 0,
              "model_id": "bacdbcb4ab044581bbd13d705bd8e3a8"
            }
          },
          "metadata": {}
        },
        {
          "output_type": "error",
          "ename": "RuntimeError",
          "evalue": "Dataset scripts are no longer supported, but found conll2003.py",
          "traceback": [
            "\u001b[0;31m---------------------------------------------------------------------------\u001b[0m",
            "\u001b[0;31mRuntimeError\u001b[0m                              Traceback (most recent call last)",
            "\u001b[0;32m/tmp/ipython-input-2586499798.py\u001b[0m in \u001b[0;36m<cell line: 0>\u001b[0;34m()\u001b[0m\n\u001b[1;32m      8\u001b[0m \u001b[0;34m\u001b[0m\u001b[0m\n\u001b[1;32m      9\u001b[0m \u001b[0;31m# 2. Load Dataset\u001b[0m\u001b[0;34m\u001b[0m\u001b[0;34m\u001b[0m\u001b[0m\n\u001b[0;32m---> 10\u001b[0;31m \u001b[0mdataset\u001b[0m \u001b[0;34m=\u001b[0m \u001b[0mload_dataset\u001b[0m\u001b[0;34m(\u001b[0m\u001b[0;34m\"conll2003\"\u001b[0m\u001b[0;34m)\u001b[0m\u001b[0;34m\u001b[0m\u001b[0;34m\u001b[0m\u001b[0m\n\u001b[0m\u001b[1;32m     11\u001b[0m \u001b[0;34m\u001b[0m\u001b[0m\n\u001b[1;32m     12\u001b[0m \u001b[0;31m# 3. Get Entity Names\u001b[0m\u001b[0;34m\u001b[0m\u001b[0;34m\u001b[0m\u001b[0m\n",
            "\u001b[0;32m/usr/local/lib/python3.12/dist-packages/datasets/load.py\u001b[0m in \u001b[0;36mload_dataset\u001b[0;34m(path, name, data_dir, data_files, split, cache_dir, features, download_config, download_mode, verification_mode, keep_in_memory, save_infos, revision, token, streaming, num_proc, storage_options, **config_kwargs)\u001b[0m\n\u001b[1;32m   1390\u001b[0m \u001b[0;34m\u001b[0m\u001b[0m\n\u001b[1;32m   1391\u001b[0m     \u001b[0;31m# Create a dataset builder\u001b[0m\u001b[0;34m\u001b[0m\u001b[0;34m\u001b[0m\u001b[0m\n\u001b[0;32m-> 1392\u001b[0;31m     builder_instance = load_dataset_builder(\n\u001b[0m\u001b[1;32m   1393\u001b[0m         \u001b[0mpath\u001b[0m\u001b[0;34m=\u001b[0m\u001b[0mpath\u001b[0m\u001b[0;34m,\u001b[0m\u001b[0;34m\u001b[0m\u001b[0;34m\u001b[0m\u001b[0m\n\u001b[1;32m   1394\u001b[0m         \u001b[0mname\u001b[0m\u001b[0;34m=\u001b[0m\u001b[0mname\u001b[0m\u001b[0;34m,\u001b[0m\u001b[0;34m\u001b[0m\u001b[0;34m\u001b[0m\u001b[0m\n",
            "\u001b[0;32m/usr/local/lib/python3.12/dist-packages/datasets/load.py\u001b[0m in \u001b[0;36mload_dataset_builder\u001b[0;34m(path, name, data_dir, data_files, cache_dir, features, download_config, download_mode, revision, token, storage_options, **config_kwargs)\u001b[0m\n\u001b[1;32m   1130\u001b[0m     \u001b[0;32mif\u001b[0m \u001b[0mfeatures\u001b[0m \u001b[0;32mis\u001b[0m \u001b[0;32mnot\u001b[0m \u001b[0;32mNone\u001b[0m\u001b[0;34m:\u001b[0m\u001b[0;34m\u001b[0m\u001b[0;34m\u001b[0m\u001b[0m\n\u001b[1;32m   1131\u001b[0m         \u001b[0mfeatures\u001b[0m \u001b[0;34m=\u001b[0m \u001b[0m_fix_for_backward_compatible_features\u001b[0m\u001b[0;34m(\u001b[0m\u001b[0mfeatures\u001b[0m\u001b[0;34m)\u001b[0m\u001b[0;34m\u001b[0m\u001b[0;34m\u001b[0m\u001b[0m\n\u001b[0;32m-> 1132\u001b[0;31m     dataset_module = dataset_module_factory(\n\u001b[0m\u001b[1;32m   1133\u001b[0m         \u001b[0mpath\u001b[0m\u001b[0;34m,\u001b[0m\u001b[0;34m\u001b[0m\u001b[0;34m\u001b[0m\u001b[0m\n\u001b[1;32m   1134\u001b[0m         \u001b[0mrevision\u001b[0m\u001b[0;34m=\u001b[0m\u001b[0mrevision\u001b[0m\u001b[0;34m,\u001b[0m\u001b[0;34m\u001b[0m\u001b[0;34m\u001b[0m\u001b[0m\n",
            "\u001b[0;32m/usr/local/lib/python3.12/dist-packages/datasets/load.py\u001b[0m in \u001b[0;36mdataset_module_factory\u001b[0;34m(path, revision, download_config, download_mode, data_dir, data_files, cache_dir, **download_kwargs)\u001b[0m\n\u001b[1;32m   1029\u001b[0m                         \u001b[0;34mf\"Couldn't find '{path}' on the Hugging Face Hub either: {type(e1).__name__}: {e1}\"\u001b[0m\u001b[0;34m\u001b[0m\u001b[0;34m\u001b[0m\u001b[0m\n\u001b[1;32m   1030\u001b[0m                     ) from None\n\u001b[0;32m-> 1031\u001b[0;31m                 \u001b[0;32mraise\u001b[0m \u001b[0me1\u001b[0m \u001b[0;32mfrom\u001b[0m \u001b[0;32mNone\u001b[0m\u001b[0;34m\u001b[0m\u001b[0;34m\u001b[0m\u001b[0m\n\u001b[0m\u001b[1;32m   1032\u001b[0m     \u001b[0;32melse\u001b[0m\u001b[0;34m:\u001b[0m\u001b[0;34m\u001b[0m\u001b[0;34m\u001b[0m\u001b[0m\n\u001b[1;32m   1033\u001b[0m         \u001b[0;32mraise\u001b[0m \u001b[0mFileNotFoundError\u001b[0m\u001b[0;34m(\u001b[0m\u001b[0;34mf\"Couldn't find any data file at {relative_to_absolute_path(path)}.\"\u001b[0m\u001b[0;34m)\u001b[0m\u001b[0;34m\u001b[0m\u001b[0;34m\u001b[0m\u001b[0m\n",
            "\u001b[0;32m/usr/local/lib/python3.12/dist-packages/datasets/load.py\u001b[0m in \u001b[0;36mdataset_module_factory\u001b[0;34m(path, revision, download_config, download_mode, data_dir, data_files, cache_dir, **download_kwargs)\u001b[0m\n\u001b[1;32m    987\u001b[0m                     \u001b[0mproxies\u001b[0m\u001b[0;34m=\u001b[0m\u001b[0mdownload_config\u001b[0m\u001b[0;34m.\u001b[0m\u001b[0mproxies\u001b[0m\u001b[0;34m,\u001b[0m\u001b[0;34m\u001b[0m\u001b[0;34m\u001b[0m\u001b[0m\n\u001b[1;32m    988\u001b[0m                 )\n\u001b[0;32m--> 989\u001b[0;31m                 \u001b[0;32mraise\u001b[0m \u001b[0mRuntimeError\u001b[0m\u001b[0;34m(\u001b[0m\u001b[0;34mf\"Dataset scripts are no longer supported, but found {filename}\"\u001b[0m\u001b[0;34m)\u001b[0m\u001b[0;34m\u001b[0m\u001b[0;34m\u001b[0m\u001b[0m\n\u001b[0m\u001b[1;32m    990\u001b[0m             \u001b[0;32mexcept\u001b[0m \u001b[0mEntryNotFoundError\u001b[0m\u001b[0;34m:\u001b[0m\u001b[0;34m\u001b[0m\u001b[0;34m\u001b[0m\u001b[0m\n\u001b[1;32m    991\u001b[0m                 \u001b[0;31m# Use the infos from the parquet export except in some cases:\u001b[0m\u001b[0;34m\u001b[0m\u001b[0;34m\u001b[0m\u001b[0m\n",
            "\u001b[0;31mRuntimeError\u001b[0m: Dataset scripts are no longer supported, but found conll2003.py"
          ]
        }
      ]
    },
    {
      "cell_type": "code",
      "source": [],
      "metadata": {
        "id": "kr-D7z2P9Ox9"
      },
      "execution_count": null,
      "outputs": []
    }
  ]
}